{
 "cells": [
  {
   "cell_type": "markdown",
   "metadata": {},
   "source": [
    "### 1. Variable Swap: Write a Python program to swap the values of two variables without using a temporary variable."
   ]
  },
  {
   "cell_type": "code",
   "execution_count": 4,
   "metadata": {},
   "outputs": [
    {
     "name": "stdout",
     "output_type": "stream",
     "text": [
      "a 12\n",
      "b 12\n"
     ]
    }
   ],
   "source": [
    "a = int(input(\"enter the value:\"))\n",
    "b = int(input(\"enter the value:\"))\n",
    "a,b = b,a\n",
    "print(\"a\",a)\n",
    "print(\"b\",b)"
   ]
  },
  {
   "cell_type": "markdown",
   "metadata": {},
   "source": [
    "### 2. Even or Odd: Write a Python program that takes an integer as input and prints whether it is even or odd."
   ]
  },
  {
   "cell_type": "code",
   "execution_count": null,
   "metadata": {},
   "outputs": [
    {
     "name": "stdout",
     "output_type": "stream",
     "text": [
      "even\n"
     ]
    }
   ],
   "source": [
    "number = int(input(\"Enter the Number:\"))\n",
    "even_odd = \"even\" if number%2==0 else \"odd\"\n",
    "print(even_odd)"
   ]
  },
  {
   "cell_type": "markdown",
   "metadata": {},
   "source": [
    "### 3. String Reverse: Write a Python function to reverse a given string and return the reversed string."
   ]
  },
  {
   "cell_type": "code",
   "execution_count": null,
   "metadata": {},
   "outputs": [
    {
     "name": "stdout",
     "output_type": "stream",
     "text": [
      "d l r o w   o l l e h\n"
     ]
    }
   ],
   "source": [
    "def rev(val):\n",
    "    result= \" \".join(reversed(val))\n",
    "    return result\n",
    "\n",
    "my_string = input(\"Enter the string:\")\n",
    "final = rev(my_string)\n",
    "print(final)"
   ]
  },
  {
   "cell_type": "markdown",
   "metadata": {},
   "source": [
    "### 4. Type Conversion: Given a list of integers, write a Python program to convert each element of the list to a string."
   ]
  },
  {
   "cell_type": "code",
   "execution_count": null,
   "metadata": {},
   "outputs": [
    {
     "name": "stdout",
     "output_type": "stream",
     "text": [
      "['10', '20', '30', '40', '50']\n"
     ]
    }
   ],
   "source": [
    "del str\n",
    "my_list = [10,20,30,40,50]\n",
    "new_list = list(map(str,my_list))\n",
    "print(new_list)"
   ]
  },
  {
   "cell_type": "markdown",
   "metadata": {},
   "source": [
    "### 5. Temperature Converter: Write a Python program that converts a temperature in Celsius to Fahrenheit. Take the Celsius temperature as input from the user."
   ]
  },
  {
   "cell_type": "code",
   "execution_count": null,
   "metadata": {},
   "outputs": [
    {
     "name": "stdout",
     "output_type": "stream",
     "text": [
      "34.0°C is equal to 93.2°F\n"
     ]
    }
   ],
   "source": [
    "celsius = float(input(\"Enter temperature in Celsius: \"))\n",
    "\n",
    "fahrenheit = (celsius * 9/5) + 32\n",
    "\n",
    "print(f\"{celsius}°C is equal to {fahrenheit}°F\")\n"
   ]
  },
  {
   "cell_type": "markdown",
   "metadata": {},
   "source": [
    "### 6. Data Type Checker: Write a Python function that takes a variable as input and returns the data type of the variable as a string (e.g., “int”, “float”, “str”, “list”, etc.)."
   ]
  },
  {
   "cell_type": "code",
   "execution_count": null,
   "metadata": {},
   "outputs": [
    {
     "name": "stdout",
     "output_type": "stream",
     "text": [
      "int\n"
     ]
    }
   ],
   "source": [
    "def check_type(val):\n",
    "    return type(val).__name__ # show the data type\n",
    "\n",
    "print(check_type(10))"
   ]
  },
  {
   "cell_type": "markdown",
   "metadata": {},
   "source": [
    "### 7. String Palindrome: Write a Python function to check if a given string is a palindrome or not."
   ]
  },
  {
   "cell_type": "code",
   "execution_count": null,
   "metadata": {},
   "outputs": [
    {
     "name": "stdout",
     "output_type": "stream",
     "text": [
      "is palindrom\n"
     ]
    }
   ],
   "source": [
    "my_input = input(\"Enter the string: \").lower()\n",
    "rev = my_input[::-1]\n",
    "if (my_input == rev):\n",
    "    print(\"is palindrom\")\n",
    "else:\n",
    "    print(\"is not palindrom\")\n"
   ]
  },
  {
   "cell_type": "markdown",
   "metadata": {},
   "source": [
    "### 8. String Reversal with Slicing: Write a Python function to reverse a given string using slicing."
   ]
  },
  {
   "cell_type": "code",
   "execution_count": null,
   "metadata": {},
   "outputs": [
    {
     "name": "stdout",
     "output_type": "stream",
     "text": [
      "akahd\n"
     ]
    }
   ],
   "source": [
    "def reversed_string(val):\n",
    "    return val[::-1]\n",
    "input_string = input(\"Enter your string:\")\n",
    "final = reversed_string(input_string)\n",
    "print(final)"
   ]
  },
  {
   "cell_type": "markdown",
   "metadata": {},
   "source": [
    "### 9. String Concatenation: Write a Python program that takes two strings as input and concatenates them into a single string without using the `+` operator."
   ]
  },
  {
   "cell_type": "code",
   "execution_count": null,
   "metadata": {},
   "outputs": [
    {
     "name": "stdout",
     "output_type": "stream",
     "text": [
      "HELLO BANGLADESH\n"
     ]
    }
   ],
   "source": [
    "str_1 = input(\"Enter the string:\")\n",
    "str_2 = input(\"Enter the string:\")\n",
    "str3 = str_1+ \" \" + str_2\n",
    "print(str3)"
   ]
  },
  {
   "cell_type": "markdown",
   "metadata": {},
   "source": [
    "##### 10. Typecasting Challenge: Given three variables: `a = ‘100’`, `b = 25`, and `c = ‘10.5’`, write a Python program to perform the following operations and print the results: – Convert `a` to an integer and add it to `b`. – Convert `c` to a float and subtract it from the result of the first operation. – Convert the final result to a string and concatenate it with the string ” is the answer.”"
   ]
  },
  {
   "cell_type": "code",
   "execution_count": null,
   "metadata": {},
   "outputs": [
    {
     "name": "stdout",
     "output_type": "stream",
     "text": [
      "114.5 is the answer\n"
     ]
    }
   ],
   "source": [
    "a = \"100\"\n",
    "b = 25\n",
    "c = \"10.5\"\n",
    "add_value = int(a) + b\n",
    "e = float(c)\n",
    "sub_value = add_value - e\n",
    "final_output = str(sub_value) + \" is the answer\"\n",
    "print(final_output)\n"
   ]
  },
  {
   "cell_type": "markdown",
   "metadata": {},
   "source": [
    "### 11. Positive, Negative, or Zero: Write a Python program that takes a number as input and prints whether it is positive, negative, or zero."
   ]
  },
  {
   "cell_type": "code",
   "execution_count": null,
   "metadata": {},
   "outputs": [
    {
     "name": "stdout",
     "output_type": "stream",
     "text": [
      "the value is zero\n"
     ]
    }
   ],
   "source": [
    "value = int(input(\"Enter your Number:\"))\n",
    "if value > 0:\n",
    "    print(f\"{value} is a Positive Number\")\n",
    "elif value < 0:\n",
    "    print(f\"{value} is a negative number\" )\n",
    "else:\n",
    "    print(\"the value is zero\")"
   ]
  },
  {
   "cell_type": "markdown",
   "metadata": {},
   "source": [
    "### 12. Largest of Three Numbers: Write a Python program that takes three numbers as input and prints the largest among them."
   ]
  },
  {
   "cell_type": "code",
   "execution_count": null,
   "metadata": {},
   "outputs": [
    {
     "name": "stdout",
     "output_type": "stream",
     "text": [
      "111\n"
     ]
    }
   ],
   "source": [
    "num1 = int(input(\"Enter the Number:\"))\n",
    "num2 = int(input(\"Enter the Number:\"))\n",
    "num3 = int(input(\"Enter the Number:\"))\n",
    "max_num = max(num1,num2,num3)\n",
    "print(max_num)"
   ]
  },
  {
   "cell_type": "markdown",
   "metadata": {},
   "source": [
    "#### 13. Leap Year Checker: Write a Python program that takes a year as input and determines if it is a leap year or not."
   ]
  },
  {
   "cell_type": "code",
   "execution_count": null,
   "metadata": {},
   "outputs": [
    {
     "name": "stdout",
     "output_type": "stream",
     "text": [
      "2023 is Not a Leap Year\n"
     ]
    }
   ],
   "source": [
    "year = int(input(\"Enter a year: \"))\n",
    "\n",
    "# Check if it's a leap year\n",
    "if (year % 4 == 0 & year % 100 != 0) | (year % 400 == 0):\n",
    "    print(f\"{year} is a Leap Year\")\n",
    "else:\n",
    "    print(f\"{year} is Not a Leap Year\")\n"
   ]
  },
  {
   "cell_type": "markdown",
   "metadata": {},
   "source": [
    "##### 14. Grades Classification: Write a Python program that takes a student’s percentage as input and prints their corresponding grade according to the following criteria: – 90% or above: A+ – 80-89%: A – 70-79%: B – 60-69%: C – Below 60%: Fail"
   ]
  },
  {
   "cell_type": "code",
   "execution_count": null,
   "metadata": {},
   "outputs": [
    {
     "name": "stdout",
     "output_type": "stream",
     "text": [
      "your number is 100 and Grade is A+\n"
     ]
    }
   ],
   "source": [
    "number = int(input(\"Enter your Number: \"))\n",
    "if (number == 90 or number > 90):\n",
    "    print(f\"your number is {number} and Grade is A+\")\n",
    "elif (number == 80 or number < 90):\n",
    "    print(print(f\"your number is {number} and Grade is A\"))\n",
    "elif (number == 70 or number < 80):\n",
    "    print(f\"your number is {number} and Grade is B\")\n",
    "elif (number == 60 or number < 70):\n",
    "    print(f\"your number is {number} and Grade is C\")\n",
    "else:\n",
    "    print(f\"your number is {number} and Grade is fail\")\n"
   ]
  },
  {
   "cell_type": "markdown",
   "metadata": {},
   "source": [
    "#### 15. Vowel or Consonant: Write a Python program that takes a single character as input and determines whether it is a vowel or a consonant."
   ]
  },
  {
   "cell_type": "code",
   "execution_count": null,
   "metadata": {},
   "outputs": [
    {
     "name": "stdout",
     "output_type": "stream",
     "text": [
      "l is consonent\n"
     ]
    }
   ],
   "source": [
    "character = input(\"Enter your Character:\").lower()\n",
    "if (character == \"a\" or character == \"e\" or character == \"i\" or character == \"o\" or character == \"u\"):\n",
    "    print(f\"{character} is a vowel\")\n",
    "else:\n",
    "    print(f\"{character} is consonent\")"
   ]
  },
  {
   "cell_type": "markdown",
   "metadata": {},
   "source": [
    "##### 16. Time Classification: Write a Python program that takes the time in hours (24-hour format) as input and prints “Good Morning”, “Good Afternoon”, “Good Evening”, or “Good Night” based on the time."
   ]
  },
  {
   "cell_type": "code",
   "execution_count": null,
   "metadata": {},
   "outputs": [
    {
     "name": "stdout",
     "output_type": "stream",
     "text": [
      "Good Afternoon ☀️\n"
     ]
    }
   ],
   "source": [
    "hour = int(input(\"Enter the hour (0-23): \"))\n",
    "\n",
    "# Classify and print greeting\n",
    "if 5 <= hour < 12:\n",
    "    print(\"Good Morning 🌅\")\n",
    "elif 12 <= hour < 17:\n",
    "    print(\"Good Afternoon ☀️\")\n",
    "elif 17 <= hour < 21:\n",
    "    print(\"Good Evening 🌇\")\n",
    "elif 21 <= hour or hour < 5:\n",
    "    print(\"Good Night 🌙\")\n",
    "else:\n",
    "    print(\"Invalid hour! Please enter a value between 0 and 23.\")\n"
   ]
  },
  {
   "cell_type": "markdown",
   "metadata": {},
   "source": [
    "##### 17. Triangle Type Checker: Write a Python program that takes three sides of a triangle as input and determines whether it forms an equilateral, isosceles, or scalene triangle."
   ]
  },
  {
   "cell_type": "code",
   "execution_count": null,
   "metadata": {},
   "outputs": [
    {
     "name": "stdout",
     "output_type": "stream",
     "text": [
      "Scalene Triangle (All sides are different)\n"
     ]
    }
   ],
   "source": [
    "# Input three sides of a triangle\n",
    "a = float(input(\"Enter side a: \"))\n",
    "b = float(input(\"Enter side b: \"))\n",
    "c = float(input(\"Enter side c: \"))\n",
    "\n",
    "# First, check if it forms a valid triangle\n",
    "if a + b > c and b + c > a and c + a > b:\n",
    "    if a == b == c:\n",
    "        print(\"Equilateral Triangle  (All sides are equal)\")\n",
    "    elif a == b or b == c or c == a:\n",
    "        print(\"Isosceles Triangle  (Two sides are equal)\")\n",
    "    else:\n",
    "        print(\"Scalene Triangle (All sides are different)\")\n",
    "else:\n",
    "    print(\"Not a valid triangle \")\n"
   ]
  },
  {
   "cell_type": "markdown",
   "metadata": {},
   "source": [
    "##### 18. Quadratic Equation Solver: Write a Python program that takes the coefficients (a, b, c) of a quadratic equation as input and calculates and prints the real roots (if they exist) or a message indicating the complex roots."
   ]
  },
  {
   "cell_type": "code",
   "execution_count": null,
   "metadata": {},
   "outputs": [],
   "source": []
  },
  {
   "cell_type": "markdown",
   "metadata": {},
   "source": [
    "##### 19. Number Ranges: Write a Python program that takes an integer as input and prints whether the number falls within the ranges: 0-50, 51-100, 101-150, or above 150."
   ]
  },
  {
   "cell_type": "code",
   "execution_count": null,
   "metadata": {},
   "outputs": [
    {
     "name": "stdout",
     "output_type": "stream",
     "text": [
      "The number is in the range 101–150.\n"
     ]
    }
   ],
   "source": [
    "number = int(input(\"Enter an integer: \"))\n",
    "\n",
    "# Check and print the range\n",
    "if 0 <= number <= 50:\n",
    "    print(\"The number is in the range 0–50.\")\n",
    "elif 51 <= number <= 100:\n",
    "    print(\"The number is in the range 51–100.\")\n",
    "elif 101 <= number <= 150:\n",
    "    print(\"The number is in the range 101–150.\")\n",
    "elif number > 150:\n",
    "    print(\"The number is above 150.\")\n",
    "else:\n",
    "    print(\"The number is below 0.\")\n"
   ]
  },
  {
   "cell_type": "markdown",
   "metadata": {},
   "source": [
    "#### 20. Sum of N Numbers: Write a Python program using a for loop to calculate the sum of the first N natural numbers, where N is taken as input from the user."
   ]
  },
  {
   "cell_type": "code",
   "execution_count": null,
   "metadata": {},
   "outputs": [
    {
     "name": "stdout",
     "output_type": "stream",
     "text": [
      "6\n"
     ]
    }
   ],
   "source": [
    "number = int (input(\"Enter your Value: \"))\n",
    "sum = 0\n",
    "for i in range(1,number+1):\n",
    "    sum +=i\n",
    "print(sum)\n"
   ]
  },
  {
   "cell_type": "markdown",
   "metadata": {},
   "source": [
    "#### 21. Factorial Calculator: Write a Python program using a while loop to calculate the factorial of a given number N."
   ]
  },
  {
   "cell_type": "code",
   "execution_count": null,
   "metadata": {},
   "outputs": [
    {
     "name": "stdout",
     "output_type": "stream",
     "text": [
      "120\n"
     ]
    }
   ],
   "source": [
    "number = int(input(\"Enter your Single Number: \"))\n",
    "fact = 1\n",
    "i = 1\n",
    "while(i<=number):\n",
    "    fact *=i\n",
    "    i+=1\n",
    "print(fact)"
   ]
  },
  {
   "cell_type": "markdown",
   "metadata": {},
   "source": [
    "#### 22. Table of a Number: Write a Python program using a for loop to print the multiplication table of a given number N."
   ]
  },
  {
   "cell_type": "code",
   "execution_count": null,
   "metadata": {},
   "outputs": [
    {
     "name": "stdout",
     "output_type": "stream",
     "text": [
      "1 * 10 = 10\n",
      "2 * 10 = 20\n",
      "3 * 10 = 30\n",
      "4 * 10 = 40\n",
      "5 * 10 = 50\n",
      "6 * 10 = 60\n",
      "7 * 10 = 70\n",
      "8 * 10 = 80\n",
      "9 * 10 = 90\n",
      "10 * 10 = 100\n"
     ]
    }
   ],
   "source": [
    "value = int(input(\"Enter your Number: \"))\n",
    "for i in range(1,value+1):\n",
    "    print(f\"{i} * {value} = {value * i}\")"
   ]
  },
  {
   "cell_type": "markdown",
   "metadata": {},
   "source": [
    "#### 23. Count Digits in a Number: Write a Python program using a while loop to count the number of digits in a given integer N."
   ]
  },
  {
   "cell_type": "code",
   "execution_count": null,
   "metadata": {},
   "outputs": [
    {
     "name": "stdout",
     "output_type": "stream",
     "text": [
      "3\n"
     ]
    }
   ],
   "source": [
    "digit = int(input(\"Enter your Number: \"))\n",
    "count = 0\n",
    "if digit == 0:\n",
    "    count +=1\n",
    "else:\n",
    "    digit = abs(digit)\n",
    "\n",
    "while(digit > 0):\n",
    "    last_digit = digit%10\n",
    "    count+=1\n",
    "    digit = digit//10\n",
    "print(count)"
   ]
  },
  {
   "cell_type": "markdown",
   "metadata": {},
   "source": [
    "#### 24. Fibonacci Sequence: Write a Python program using a for loop to generate the Fibonacci sequence up to a given limit N.\n",
    "\n"
   ]
  },
  {
   "cell_type": "code",
   "execution_count": null,
   "metadata": {},
   "outputs": [
    {
     "name": "stdout",
     "output_type": "stream",
     "text": [
      "0 1 1 2 3 5 8 "
     ]
    }
   ],
   "source": [
    "N = int(input(\"Enter the limit N: \"))\n",
    "\n",
    "first = 0\n",
    "second = 1\n",
    "\n",
    "for i in range(N):\n",
    "    if first > N:\n",
    "        break\n",
    "    print(first, end=\" \")\n",
    "    next_number = first + second\n",
    "    first = second\n",
    "    second = next_number\n"
   ]
  },
  {
   "cell_type": "markdown",
   "metadata": {},
   "source": [
    "#### 25. Sum of Even Numbers: Write a Python program using a while loop to calculate the sum of all even numbers between 1 and N, where N is taken as input from the user."
   ]
  },
  {
   "cell_type": "code",
   "execution_count": null,
   "metadata": {},
   "outputs": [
    {
     "name": "stdout",
     "output_type": "stream",
     "text": [
      "20\n"
     ]
    }
   ],
   "source": [
    "N = int(input(\"Enter your Number: \"))\n",
    "sum = 0\n",
    "i = 1\n",
    "while(i<N):\n",
    "    if i%2==0:\n",
    "        sum +=i\n",
    "    i+=1\n",
    "print(sum)"
   ]
  },
  {
   "cell_type": "markdown",
   "metadata": {},
   "source": [
    "#### 26. Print Patterns: Write a Python program using nested for loops to print various patterns, such as a right-angled triangle, an inverted right-angled triangle, and so on."
   ]
  },
  {
   "cell_type": "code",
   "execution_count": null,
   "metadata": {},
   "outputs": [
    {
     "name": "stdout",
     "output_type": "stream",
     "text": [
      "* \n",
      "* * \n",
      "* * * \n",
      "* * * * \n",
      "* * * * * \n"
     ]
    }
   ],
   "source": [
    "N = int(input(\"Enter Your Number: \"))\n",
    "for i in range(1, N + 1):\n",
    "    for j in range(i):\n",
    "        print(\"*\", end=\" \")\n",
    "    print()  # Move to the next line"
   ]
  },
  {
   "cell_type": "code",
   "execution_count": null,
   "metadata": {},
   "outputs": [
    {
     "name": "stdout",
     "output_type": "stream",
     "text": [
      "* * * * * \n",
      "* * * * \n",
      "* * * \n",
      "* * \n",
      "* \n"
     ]
    }
   ],
   "source": [
    "# Inverted right-angled triangle\n",
    "n = int(input(\"Enter the number : \"))\n",
    "\n",
    "for i in range(n, 0, -1):\n",
    "    for j in range(i):\n",
    "        print(\"*\", end=\" \")\n",
    "    print()  # Move to the next line\n"
   ]
  },
  {
   "cell_type": "markdown",
   "metadata": {},
   "source": [
    "#### 27. Prime Number Checker: Write a Python program using a while loop to check if a given number N is prime or not."
   ]
  },
  {
   "cell_type": "code",
   "execution_count": null,
   "metadata": {},
   "outputs": [
    {
     "name": "stdout",
     "output_type": "stream",
     "text": [
      "23 is a prime number.\n"
     ]
    }
   ],
   "source": [
    "import math\n",
    "N = int(input(\"Enter a number to check if it's prime: \"))\n",
    "\n",
    "if N <= 1:\n",
    "    print(f\"{N} is not a prime number.\")\n",
    "else:\n",
    "    is_prime = True\n",
    "    i = 2  \n",
    "    while i  <= (math.sqrt(N)):\n",
    "        if N % i == 0:  # If divisible, it's not prime\n",
    "            is_prime = False\n",
    "            break  # Exit the loop if we find a divisor\n",
    "        i += 1  # Move to the next number\n",
    "    \n",
    "    # Output the result\n",
    "    if is_prime:\n",
    "        print(f\"{N} is a prime number.\")\n",
    "    else:\n",
    "        print(f\"{N} is not a prime number.\")\n"
   ]
  },
  {
   "cell_type": "markdown",
   "metadata": {},
   "source": [
    "#### 28. List Manipulation: Given a list of integers, write a Python program using a for loop to find the sum, average, maximum, and minimum values in the list.\n"
   ]
  },
  {
   "cell_type": "code",
   "execution_count": null,
   "metadata": {},
   "outputs": [
    {
     "name": "stdout",
     "output_type": "stream",
     "text": [
      "150\n",
      "50\n",
      "10\n",
      "30\n"
     ]
    }
   ],
   "source": [
    "l = [10,20,30,40,50]\n",
    "total = 0\n",
    "for i in l:\n",
    "    total +=i\n",
    "    maximum = max(l)\n",
    "    minimum = min(l)\n",
    "    mean_value = total//len(l)\n",
    "print(total)\n",
    "# maximum = max(l)\n",
    "print(maximum)\n",
    "print(minimum)\n",
    "print(mean_value)\n",
    "    "
   ]
  },
  {
   "cell_type": "markdown",
   "metadata": {},
   "source": [
    "#### 29. Reverse String: Write a Python program using a while loop to reverse a given string."
   ]
  },
  {
   "cell_type": "code",
   "execution_count": null,
   "metadata": {},
   "outputs": [
    {
     "name": "stdout",
     "output_type": "stream",
     "text": [
      "olleh"
     ]
    }
   ],
   "source": [
    "text = input(\"Enter a string: \")\n",
    "i = len(text) - 1\n",
    "\n",
    "while i >= 0:\n",
    "    print(text[i], end=\"\")\n",
    "    i -= 1\n",
    "\n"
   ]
  },
  {
   "cell_type": "markdown",
   "metadata": {},
   "source": [
    "#### 30. Multiplication Table: Write a Python program using nested loops to print the multiplication table from 1 to 10."
   ]
  },
  {
   "cell_type": "code",
   "execution_count": null,
   "metadata": {},
   "outputs": [
    {
     "name": "stdout",
     "output_type": "stream",
     "text": [
      "1 * 1 = 1\n",
      "1 * 2 = 2\n",
      "1 * 3 = 3\n",
      "1 * 4 = 4\n",
      "1 * 5 = 5\n",
      "1 * 6 = 6\n",
      "1 * 7 = 7\n",
      "1 * 8 = 8\n",
      "1 * 9 = 9\n",
      "1 * 10 = 10\n",
      "New Start From Here\n",
      "2 * 1 = 2\n",
      "2 * 2 = 4\n",
      "2 * 3 = 6\n",
      "2 * 4 = 8\n",
      "2 * 5 = 10\n",
      "2 * 6 = 12\n",
      "2 * 7 = 14\n",
      "2 * 8 = 16\n",
      "2 * 9 = 18\n",
      "2 * 10 = 20\n",
      "New Start From Here\n",
      "3 * 1 = 3\n",
      "3 * 2 = 6\n",
      "3 * 3 = 9\n",
      "3 * 4 = 12\n",
      "3 * 5 = 15\n",
      "3 * 6 = 18\n",
      "3 * 7 = 21\n",
      "3 * 8 = 24\n",
      "3 * 9 = 27\n",
      "3 * 10 = 30\n",
      "New Start From Here\n",
      "4 * 1 = 4\n",
      "4 * 2 = 8\n",
      "4 * 3 = 12\n",
      "4 * 4 = 16\n",
      "4 * 5 = 20\n",
      "4 * 6 = 24\n",
      "4 * 7 = 28\n",
      "4 * 8 = 32\n",
      "4 * 9 = 36\n",
      "4 * 10 = 40\n",
      "New Start From Here\n",
      "5 * 1 = 5\n",
      "5 * 2 = 10\n",
      "5 * 3 = 15\n",
      "5 * 4 = 20\n",
      "5 * 5 = 25\n",
      "5 * 6 = 30\n",
      "5 * 7 = 35\n",
      "5 * 8 = 40\n",
      "5 * 9 = 45\n",
      "5 * 10 = 50\n",
      "New Start From Here\n",
      "6 * 1 = 6\n",
      "6 * 2 = 12\n",
      "6 * 3 = 18\n",
      "6 * 4 = 24\n",
      "6 * 5 = 30\n",
      "6 * 6 = 36\n",
      "6 * 7 = 42\n",
      "6 * 8 = 48\n",
      "6 * 9 = 54\n",
      "6 * 10 = 60\n",
      "New Start From Here\n",
      "7 * 1 = 7\n",
      "7 * 2 = 14\n",
      "7 * 3 = 21\n",
      "7 * 4 = 28\n",
      "7 * 5 = 35\n",
      "7 * 6 = 42\n",
      "7 * 7 = 49\n",
      "7 * 8 = 56\n",
      "7 * 9 = 63\n",
      "7 * 10 = 70\n",
      "New Start From Here\n",
      "8 * 1 = 8\n",
      "8 * 2 = 16\n",
      "8 * 3 = 24\n",
      "8 * 4 = 32\n",
      "8 * 5 = 40\n",
      "8 * 6 = 48\n",
      "8 * 7 = 56\n",
      "8 * 8 = 64\n",
      "8 * 9 = 72\n",
      "8 * 10 = 80\n",
      "New Start From Here\n",
      "9 * 1 = 9\n",
      "9 * 2 = 18\n",
      "9 * 3 = 27\n",
      "9 * 4 = 36\n",
      "9 * 5 = 45\n",
      "9 * 6 = 54\n",
      "9 * 7 = 63\n",
      "9 * 8 = 72\n",
      "9 * 9 = 81\n",
      "9 * 10 = 90\n",
      "New Start From Here\n",
      "10 * 1 = 10\n",
      "10 * 2 = 20\n",
      "10 * 3 = 30\n",
      "10 * 4 = 40\n",
      "10 * 5 = 50\n",
      "10 * 6 = 60\n",
      "10 * 7 = 70\n",
      "10 * 8 = 80\n",
      "10 * 9 = 90\n",
      "10 * 10 = 100\n",
      "END LINE\n"
     ]
    }
   ],
   "source": [
    "for i in range (1,11):\n",
    "    for j in range(1,11):\n",
    "        print(f\"{i} * {j} = {i * j}\")\n",
    "    if i != 10:\n",
    "        print(\"new start from here\".title())    \n",
    "   \n",
    "print(\"END LINE\")"
   ]
  },
  {
   "cell_type": "markdown",
   "metadata": {},
   "source": [
    "#### 31. Print Patterns: Write a Python program using nested loops to print the following pattern:"
   ]
  },
  {
   "cell_type": "code",
   "execution_count": null,
   "metadata": {},
   "outputs": [
    {
     "name": "stdout",
     "output_type": "stream",
     "text": [
      "*  \n",
      "* *  \n",
      "* * *  \n",
      "* * * *  \n",
      "* * * * *  \n"
     ]
    }
   ],
   "source": [
    "n = int(input(\"enter the number: \"))\n",
    "for i in range(1,n+1):\n",
    "    for j in range(i):\n",
    "        print(\"*\",end = \" \")\n",
    "    print(\" \")"
   ]
  },
  {
   "cell_type": "markdown",
   "metadata": {},
   "source": [
    "#### 32. Matrix Multiplication: Write a Python program using nested loops to multiply two matrices."
   ]
  },
  {
   "cell_type": "code",
   "execution_count": null,
   "metadata": {},
   "outputs": [
    {
     "name": "stdout",
     "output_type": "stream",
     "text": [
      "Result of Matrix Multiplication:\n",
      "[[ 58  64]\n",
      " [139 154]]\n"
     ]
    }
   ],
   "source": [
    "import numpy as np\n",
    "\n",
    "A = np.array([\n",
    "    [1, 2, 3],\n",
    "    [4, 5, 6]\n",
    "])\n",
    "\n",
    "B = np.array([\n",
    "    [7, 8],\n",
    "    [9, 10],\n",
    "    [11, 12]\n",
    "])\n",
    "\n",
    "# Matrix Multiplication\n",
    "result = np.dot(A, B)\n",
    "\n",
    "# Print Result\n",
    "print(\"Result of Matrix Multiplication:\")\n",
    "print(result)\n"
   ]
  },
  {
   "cell_type": "markdown",
   "metadata": {},
   "source": [
    "#### 33. Chessboard Pattern: Write a Python program using nested loops to print a chessboard pattern (alternating “X” and “O” characters) of size 8×8.34. Number Pyramid: Write a Python program using nested loops to print a number pyramid like the following: 1 22 333 4444 55555"
   ]
  },
  {
   "cell_type": "code",
   "execution_count": null,
   "metadata": {},
   "outputs": [
    {
     "name": "stdout",
     "output_type": "stream",
     "text": [
      "X O X O X O X O \n",
      "O X O X O X O X \n",
      "X O X O X O X O \n",
      "O X O X O X O X \n",
      "X O X O X O X O \n",
      "O X O X O X O X \n",
      "X O X O X O X O \n",
      "O X O X O X O X \n"
     ]
    }
   ],
   "source": [
    "# Chessboard pattern of size 8x8\n",
    "for row in range(8):\n",
    "    for col in range(8):\n",
    "        if (row + col) % 2 == 0:\n",
    "            print(\"X\", end=\" \")\n",
    "        else:\n",
    "            print(\"O\", end=\" \")\n",
    "    print()  # move to the next line after each row\n"
   ]
  },
  {
   "cell_type": "markdown",
   "metadata": {},
   "source": [
    "## 34. List Sum: Write a Python program to find the sum of all elements in a given list of integers.\n"
   ]
  },
  {
   "cell_type": "code",
   "execution_count": null,
   "metadata": {},
   "outputs": [
    {
     "name": "stdout",
     "output_type": "stream",
     "text": [
      "150\n"
     ]
    }
   ],
   "source": [
    "list_1 = (input(\"Enter multiple value\").split())\n",
    "new_list = list(map(int,list_1))\n",
    "sum = 0\n",
    "for i in new_list:\n",
    "    sum+=i\n",
    "print(sum)"
   ]
  },
  {
   "cell_type": "markdown",
   "metadata": {},
   "source": [
    "### 35. List Average: Write a Python program to calculate the average of all elements in a given list of integers."
   ]
  },
  {
   "cell_type": "code",
   "execution_count": null,
   "metadata": {},
   "outputs": [
    {
     "name": "stdout",
     "output_type": "stream",
     "text": [
      "2\n"
     ]
    }
   ],
   "source": [
    "l = input(\"Enter the values\").split()\n",
    "list_1 = list(map(int,l))\n",
    "sum = 0\n",
    "\n",
    "for i in list_1:\n",
    "    sum +=i\n",
    "average = sum// len(list_1)\n",
    "print(average)"
   ]
  },
  {
   "cell_type": "markdown",
   "metadata": {},
   "source": [
    "### 36. List Max and Min: Write a Python program to find the maximum and minimum values in a given list of integers."
   ]
  },
  {
   "cell_type": "code",
   "execution_count": null,
   "metadata": {},
   "outputs": [
    {
     "name": "stdout",
     "output_type": "stream",
     "text": [
      "minimum value is 1- maximum value is 4\n"
     ]
    }
   ],
   "source": [
    "my_list = input(\"enter your values\").split()\n",
    "update_list = list(map(int,my_list))\n",
    "\n",
    "minimum_value = min(update_list)\n",
    "maximum_value = max(update_list)\n",
    "print(f\"minimum value is {minimum_value}\",end = \"-\")\n",
    "print(f\" maximum value is {maximum_value}\")"
   ]
  },
  {
   "cell_type": "markdown",
   "metadata": {},
   "source": [
    "### 37. List Sorting: Write a Python program to sort a list of integers in ascending order."
   ]
  },
  {
   "cell_type": "code",
   "execution_count": null,
   "metadata": {},
   "outputs": [
    {
     "name": "stdout",
     "output_type": "stream",
     "text": [
      "[10, 20, 30, 40, 50, 60, 70, 80, 90, 100]\n",
      "[100, 90, 80, 70, 60, 50, 40, 30, 20, 10]\n"
     ]
    }
   ],
   "source": [
    "list_given = [10,20,40,60,80,100,30,50,70,90]\n",
    "accending_order = sorted(list_given)\n",
    "decending_order = sorted(list_given,reverse=True)\n",
    "print(accending_order)\n",
    "print(decending_order)"
   ]
  },
  {
   "cell_type": "markdown",
   "metadata": {},
   "source": [
    "### 38. List Filtering: Given a list of integers, write a Python program to create a new list that contains only the even numbers from the original list."
   ]
  },
  {
   "cell_type": "code",
   "execution_count": null,
   "metadata": {},
   "outputs": [
    {
     "name": "stdout",
     "output_type": "stream",
     "text": [
      "[2, 4, 6, 8, 10, 12, 14, 16]\n"
     ]
    }
   ],
   "source": [
    "all_value = [1,2,3,4,5,6,7,8,9,10,11,12,13,14,15,16]\n",
    "even_list = []\n",
    "for i in all_value:\n",
    "    if i%2==0:\n",
    "        even_list.append(i)\n",
    "print(even_list)"
   ]
  },
  {
   "cell_type": "markdown",
   "metadata": {},
   "source": [
    "### 39. List Reversal: Write a Python program to reverse a given list without using any built-in functions."
   ]
  },
  {
   "cell_type": "code",
   "execution_count": null,
   "metadata": {},
   "outputs": [
    {
     "name": "stdout",
     "output_type": "stream",
     "text": [
      "100 90 80 70 60 50 40 30 20 10 "
     ]
    }
   ],
   "source": [
    "staright_list = [10,20,30,40,50,60,70,80,90,100]\n",
    "reverse_list = staright_list[::-1]\n",
    "for i in reverse_list:\n",
    "    print(i,end = \" \")\n"
   ]
  },
  {
   "cell_type": "markdown",
   "metadata": {},
   "source": [
    "### 40. List Manipulation: Given two lists of integers, write a Python program to create a new list that contains elements common to both lists."
   ]
  },
  {
   "cell_type": "code",
   "execution_count": null,
   "metadata": {},
   "outputs": [
    {
     "name": "stdout",
     "output_type": "stream",
     "text": [
      "[30, 40, 50, 60, 70, 80, 90]\n"
     ]
    }
   ],
   "source": [
    "number_1 = [10,20,30,40,50,60,70,80,90,100]\n",
    "number_2 = [30,40,50,60,70,80,90]\n",
    "number_3 =[]\n",
    "for item in number_1:\n",
    "    if item in number_2:\n",
    "        number_3.append(item)\n",
    "print(number_3)\n"
   ]
  },
  {
   "cell_type": "markdown",
   "metadata": {},
   "source": [
    "### 41. List Element Count: Write a Python program to count the occurrences of a specific element in a given list."
   ]
  },
  {
   "cell_type": "code",
   "execution_count": 5,
   "metadata": {},
   "outputs": [
    {
     "name": "stdout",
     "output_type": "stream",
     "text": [
      "12 present in list 2 times\n"
     ]
    }
   ],
   "source": [
    "Given_list = [12,13,12,13,14,16,20,30]\n",
    "element = int(input(\"enter the the element\"))\n",
    "if element in  Given_list:\n",
    "        count = Given_list.count(element)\n",
    "        print(f\"{element} present in list {count} times\")\n",
    "else:\n",
    "    print(\"number is not valid\")"
   ]
  },
  {
   "cell_type": "markdown",
   "metadata": {},
   "source": [
    "### 42. List Duplicates Removal: Write a Python program to remove duplicates from a given list while preserving the order of the elements."
   ]
  },
  {
   "cell_type": "code",
   "execution_count": 6,
   "metadata": {},
   "outputs": [
    {
     "name": "stdout",
     "output_type": "stream",
     "text": [
      "[10, 20, 30, 40, 50]\n"
     ]
    }
   ],
   "source": [
    "list_ = [10,20,30,40,50,10,20,30,40,10,]\n",
    "seen = set()\n",
    "single_val = []\n",
    "for item in list_:\n",
    "    if item not in seen:\n",
    "        seen.add(item)\n",
    "        single_val.append(item)\n",
    "print(single_val)\n"
   ]
  },
  {
   "cell_type": "markdown",
   "metadata": {},
   "source": [
    "### 43. List Comprehension: Given a list of integers, write a Python program to create a new list that contains the squares of the elements using list comprehension."
   ]
  },
  {
   "cell_type": "code",
   "execution_count": 10,
   "metadata": {},
   "outputs": [
    {
     "name": "stdout",
     "output_type": "stream",
     "text": [
      "[100, 400, 900, 1600, 2500]\n"
     ]
    }
   ],
   "source": [
    "my_list = [10,20,30,40,50]\n",
    "\n",
    "new_list =[i**2 for i in my_list]\n",
    "print(new_list)"
   ]
  },
  {
   "cell_type": "markdown",
   "metadata": {},
   "source": [
    "### 44. Matrix Addition: Write a Python program to add two matrices represented as nested lists."
   ]
  },
  {
   "cell_type": "code",
   "execution_count": 14,
   "metadata": {},
   "outputs": [
    {
     "name": "stdout",
     "output_type": "stream",
     "text": [
      "Result of 1D matrix addition: [40, 70, 110, 160]\n"
     ]
    }
   ],
   "source": [
    "mat_1 = [10,20,40,70]\n",
    "mat_2 = [30,50,70,90]\n",
    "\n",
    "# Check if both have the same length\n",
    "if len(mat_1) != len(mat_2):\n",
    "    print(\"Matrices must be of the same length.\")\n",
    "else:\n",
    "    result = []\n",
    "    for i in range(len(mat_1)):\n",
    "        result.append(mat_1[i] + mat_2[i])\n",
    "\n",
    "    # Display the result\n",
    "    print(\"Result of 1D matrix addition:\", result)\n",
    "\n"
   ]
  },
  {
   "cell_type": "markdown",
   "metadata": {},
   "source": [
    "### 45. Flatten Nested List: Write a Python program to flatten a given nested list and convert it into a single-dimensional list."
   ]
  },
  {
   "cell_type": "code",
   "execution_count": null,
   "metadata": {},
   "outputs": [],
   "source": []
  },
  {
   "cell_type": "markdown",
   "metadata": {},
   "source": [
    "### 46. List Element Frequency: Given a nested list containing lists of integers, write a Python program to count the frequency of each element in the entire nested list."
   ]
  },
  {
   "cell_type": "code",
   "execution_count": 1,
   "metadata": {},
   "outputs": [
    {
     "name": "stdout",
     "output_type": "stream",
     "text": [
      "{1: 2, 2: 3, 3: 2, 4: 1, 5: 1}\n"
     ]
    }
   ],
   "source": [
    "nested_list = [[1, 2, 2], [3, 4, 1], [2, 3], [5]]\n",
    "\n",
    "flat_list = []\n",
    "for sublist in nested_list:\n",
    "    if type(sublist) == list:  # Check if the item is a list\n",
    "        for item in sublist:\n",
    "            flat_list.append(item)\n",
    "    else:\n",
    "        flat_list.append(sublist)\n",
    "\n",
    "# Count frequencies manually\n",
    "freq = {}\n",
    "for item in flat_list:\n",
    "    if item in freq:\n",
    "        freq[item] += 1\n",
    "    else:\n",
    "        freq[item] = 1\n",
    "\n",
    "print(freq)\n"
   ]
  },
  {
   "cell_type": "markdown",
   "metadata": {},
   "source": [
    "### 47. Transpose Matrix: Write a Python program to transpose a given matrix represented as a nested list."
   ]
  },
  {
   "cell_type": "code",
   "execution_count": 2,
   "metadata": {},
   "outputs": [
    {
     "name": "stdout",
     "output_type": "stream",
     "text": [
      "[[1, 4], [2, 5], [3, 6]]\n"
     ]
    }
   ],
   "source": [
    "matrix = [\n",
    "    [1, 2, 3],\n",
    "    [4, 5, 6]\n",
    "]\n",
    "\n",
    "transposed = list(map(list, zip(*matrix)))\n",
    "\n",
    "print(transposed)\n"
   ]
  },
  {
   "cell_type": "markdown",
   "metadata": {},
   "source": [
    "### 48. List of Lists Concatenation: Given a list of nested lists, write a Python program to concatenate all the sublists into a single flat list."
   ]
  },
  {
   "cell_type": "code",
   "execution_count": 3,
   "metadata": {},
   "outputs": [
    {
     "name": "stdout",
     "output_type": "stream",
     "text": [
      "[1, 2, 3, 4, 5, 6]\n"
     ]
    }
   ],
   "source": [
    "nested_list = [[1, 2], [3, 4], [5, 6]]\n",
    "\n",
    "flat_list = []\n",
    "for sublist in nested_list:\n",
    "    flat_list += sublist  # or flat_list.extend(sublist)\n",
    "\n",
    "print(flat_list)\n"
   ]
  },
  {
   "cell_type": "markdown",
   "metadata": {},
   "source": [
    "### 49. Tuple Concatenation: Write a Python program to concatenate two tuples and create a new tuple."
   ]
  },
  {
   "cell_type": "code",
   "execution_count": 4,
   "metadata": {},
   "outputs": [
    {
     "name": "stdout",
     "output_type": "stream",
     "text": [
      "(1, 2, 3, 4, 5, 6)\n"
     ]
    }
   ],
   "source": [
    "tup_1 = (1,2,3)\n",
    "tup_2 = (4,5,6)\n",
    "con_tup = tup_1 + tup_2\n",
    "print(con_tup)"
   ]
  },
  {
   "cell_type": "markdown",
   "metadata": {},
   "source": [
    "### 50. Tuple Unpacking: Given a tuple with three elements (x, y, z), write a Python program to unpack the tuple and assign the values to three variables."
   ]
  },
  {
   "cell_type": "code",
   "execution_count": 6,
   "metadata": {},
   "outputs": [
    {
     "name": "stdout",
     "output_type": "stream",
     "text": [
      "10\n",
      "20\n",
      "30\n"
     ]
    }
   ],
   "source": [
    "element = (10,20,30)\n",
    "x,y,z = element\n",
    "print(x)\n",
    "print(y)\n",
    "print(z)"
   ]
  },
  {
   "cell_type": "markdown",
   "metadata": {},
   "source": [
    "### 51. Tuple Sorting: Write a Python program to sort a tuple of integers in ascending order."
   ]
  },
  {
   "cell_type": "code",
   "execution_count": null,
   "metadata": {},
   "outputs": [
    {
     "name": "stdout",
     "output_type": "stream",
     "text": [
      "(1, 2, 3, 4, 5, 6, 7, 8, 9, 10)\n",
      "(10, 9, 8, 7, 6, 5, 4, 3, 2, 1)\n"
     ]
    }
   ],
   "source": [
    "tup = (10,9,8,7,6,5,4,3,2,1)\n",
    "sorted_tup = tuple(sorted(tup))\n",
    "print(sorted_tup)\n",
    "print(tup) # tuple remain unchanged"
   ]
  },
  {
   "cell_type": "markdown",
   "metadata": {},
   "source": [
    "### 52. Tuple Frequency Count: Given a tuple containing various elements, write a Python program to count the frequency of a specific element in the tuple."
   ]
  },
  {
   "cell_type": "code",
   "execution_count": 11,
   "metadata": {},
   "outputs": [
    {
     "data": {
      "text/plain": [
       "1"
      ]
     },
     "execution_count": 11,
     "metadata": {},
     "output_type": "execute_result"
    }
   ],
   "source": [
    "tup_element = (1,2,4,[1,2,3],\"kazi\",\"school\",1,1)\n",
    "tup_element.count(\"kazi\")"
   ]
  },
  {
   "cell_type": "markdown",
   "metadata": {},
   "source": [
    "### 53. Tuple to List: Write a Python program to convert a tuple into a list."
   ]
  },
  {
   "cell_type": "code",
   "execution_count": 12,
   "metadata": {},
   "outputs": [
    {
     "name": "stdout",
     "output_type": "stream",
     "text": [
      "[1, 2, 3, 4, 5]\n"
     ]
    }
   ],
   "source": [
    "tup_tup = (1,2,3,4,5)\n",
    "new_list = list(tup_tup)\n",
    "print(new_list)"
   ]
  },
  {
   "cell_type": "markdown",
   "metadata": {},
   "source": [
    "### 54. Tuple Reversal: Write a Python program to reverse a tuple without using any built-in functions."
   ]
  },
  {
   "cell_type": "code",
   "execution_count": 16,
   "metadata": {},
   "outputs": [
    {
     "name": "stdout",
     "output_type": "stream",
     "text": [
      "(4, 3, 2, 1)\n"
     ]
    }
   ],
   "source": [
    "org_tup = (1,2,3,4)\n",
    "rev_tup = ()\n",
    "for i in range(len(org_tup)-1,-1,-1):\n",
    "    rev_tup +=(org_tup[i],)\n",
    "print(rev_tup)\n"
   ]
  },
  {
   "cell_type": "markdown",
   "metadata": {},
   "source": [
    "### 55. Tuple Slicing: Given a tuple, write a Python program to extract a slice of elements from it."
   ]
  },
  {
   "cell_type": "code",
   "execution_count": 17,
   "metadata": {},
   "outputs": [
    {
     "data": {
      "text/plain": [
       "(10, 20, 30, 40)"
      ]
     },
     "execution_count": 17,
     "metadata": {},
     "output_type": "execute_result"
    }
   ],
   "source": [
    "tup_1 = (10,20,30,40,50)\n",
    "tup_1[0:4]"
   ]
  },
  {
   "cell_type": "markdown",
   "metadata": {},
   "source": [
    "### 56. Tuple Operations: Given two tuples of integers, write a Python program to perform element-wise addition, subtraction, and multiplication and create new tuples for each operation."
   ]
  },
  {
   "cell_type": "code",
   "execution_count": 19,
   "metadata": {},
   "outputs": [
    {
     "name": "stdout",
     "output_type": "stream",
     "text": [
      "(70, 90, 110, 130, 150)\n"
     ]
    }
   ],
   "source": [
    "tup_01 = (10,20,30,40,50)\n",
    "tup_02 = (60,70,80,90,100)\n",
    "add_tuple = tuple(tup_01 + tup_02 for tup_01,tup_02 in zip(tup_01,tup_02))\n",
    "print(add_tuple)"
   ]
  },
  {
   "cell_type": "markdown",
   "metadata": {},
   "source": [
    "### 57. Tuple Membership Test: Write a Python program that takes an element as input and checks if it exists in a given tuple."
   ]
  },
  {
   "cell_type": "code",
   "execution_count": 21,
   "metadata": {},
   "outputs": [
    {
     "name": "stdout",
     "output_type": "stream",
     "text": [
      "100 is not present in the tuple\n"
     ]
    }
   ],
   "source": [
    "value = int(input(\"Enter the Number: \"))\n",
    "tup_give = (10,20,30,40,50,60)\n",
    "\n",
    "if value in tup_give:\n",
    "    print(f\"{value} is present in the tuple\")\n",
    "else:\n",
    "    print(f\"{value} is not present in the tuple\")"
   ]
  },
  {
   "cell_type": "markdown",
   "metadata": {},
   "source": [
    "### 58. Tuple Packing: Write a Python program to pack three variables into a single tuple and print the tuple."
   ]
  },
  {
   "cell_type": "code",
   "execution_count": 22,
   "metadata": {},
   "outputs": [
    {
     "name": "stdout",
     "output_type": "stream",
     "text": [
      "(10, 20, 30)\n"
     ]
    }
   ],
   "source": [
    "# Three variables\n",
    "a = 10\n",
    "b = 20\n",
    "c = 30\n",
    "\n",
    "# Packing variables into a tuple\n",
    "packed_tuple = (a, b, c)\n",
    "\n",
    "# Printing the tuple\n",
    "print(packed_tuple)\n"
   ]
  },
  {
   "cell_type": "markdown",
   "metadata": {},
   "source": [
    "### 59. Nested List Element Access: Given a nested list, write a Python program to access and print specific elements from it."
   ]
  },
  {
   "cell_type": "code",
   "execution_count": 27,
   "metadata": {},
   "outputs": [
    {
     "data": {
      "text/plain": [
       "[1, 2, 3]"
      ]
     },
     "execution_count": 27,
     "metadata": {},
     "output_type": "execute_result"
    }
   ],
   "source": [
    "nest_list = [1,2,3,[1,2,3],[5,6,7],[8,9,10]]\n",
    "nest_list[3]"
   ]
  },
  {
   "cell_type": "markdown",
   "metadata": {},
   "source": [
    "### 60. Nested List Flattening: Write a Python program to flatten a nested list and convert it into a single-dimensional list."
   ]
  },
  {
   "cell_type": "code",
   "execution_count": 28,
   "metadata": {},
   "outputs": [
    {
     "name": "stdout",
     "output_type": "stream",
     "text": [
      "[1, 2, 3, 4, 5, 6, 7]\n"
     ]
    }
   ],
   "source": [
    "nested_list = [1, 2, [3, 4], [5, 6], 7]\n",
    "flat_list = []\n",
    "\n",
    "for item in nested_list:\n",
    "    if isinstance(item, list):\n",
    "        for sub_item in item:\n",
    "            flat_list.append(sub_item)\n",
    "    else:\n",
    "        flat_list.append(item)\n",
    "\n",
    "print(flat_list)\n"
   ]
  },
  {
   "cell_type": "markdown",
   "metadata": {},
   "source": [
    "### 61. Nested List Sorting: Given a nested list containing lists of integers, write a Python program to sort the sublists based on their lengths.\n"
   ]
  },
  {
   "cell_type": "code",
   "execution_count": null,
   "metadata": {},
   "outputs": [
    {
     "name": "stdout",
     "output_type": "stream",
     "text": [
      "[[9], [3, 2, 1], [6, 5, 4]]\n"
     ]
    }
   ],
   "source": [
    "l = [[3,2,1],[6,5,4],[9]]\n",
    "sorted_list = sorted(l,key = len) # depend on length of nested list\n",
    "print(sorted_list)\n"
   ]
  },
  {
   "cell_type": "markdown",
   "metadata": {},
   "source": [
    "### 62. List of Tuples Conversion: Given a nested list containing tuples of (x, y) coordinates, write a Python program to convert it into a list of x-coordinates and a list of y-coordinates."
   ]
  },
  {
   "cell_type": "code",
   "execution_count": 35,
   "metadata": {},
   "outputs": [
    {
     "name": "stdout",
     "output_type": "stream",
     "text": [
      "(1, 3, 6)\n",
      "(2, 4, 7)\n"
     ]
    }
   ],
   "source": [
    "coords = [(1, 2), (3, 4, 5), (6, 7)]\n",
    "x_coords, y_coords = zip(*coords)\n",
    "print(x_coords)  \n",
    "print(y_coords)  \n"
   ]
  },
  {
   "cell_type": "markdown",
   "metadata": {},
   "source": [
    "### 63. Matrix Transpose: Write a Python program to transpose a given matrix represented as a nested list."
   ]
  },
  {
   "cell_type": "code",
   "execution_count": 1,
   "metadata": {},
   "outputs": [
    {
     "name": "stdout",
     "output_type": "stream",
     "text": [
      "\n",
      "Transposed Matrix:\n",
      "[1, 4, 7]\n",
      "[2, 5, 8]\n",
      "[3, 6, 9]\n"
     ]
    }
   ],
   "source": [
    "# Original matrix\n",
    "matrix = [\n",
    "    [1, 2, 3],\n",
    "    [4, 5, 6],\n",
    "    [7, 8, 9]\n",
    "]\n",
    "\n",
    "# Transpose the matrix using zip\n",
    "transposed_matrix = [list(row) for row in zip(*matrix)]\n",
    "\n",
    "# Print the transposed matrix\n",
    "print(\"\\nTransposed Matrix:\")\n",
    "for row in transposed_matrix:\n",
    "    print(row)\n"
   ]
  },
  {
   "cell_type": "markdown",
   "metadata": {},
   "source": [
    "### 64. Nested List Concatenation: Given a list of nested lists, write a Python program to concatenate all the sublists into a single flat list."
   ]
  },
  {
   "cell_type": "code",
   "execution_count": 3,
   "metadata": {},
   "outputs": [
    {
     "name": "stdout",
     "output_type": "stream",
     "text": [
      "[1, 2, 3, 4, 5, 6, 7, 8, 9]\n"
     ]
    }
   ],
   "source": [
    "list_g = [[1,2,3],[4,5,6],[7,8,9]]\n",
    "final_list = []\n",
    "\n",
    "for item in list_g:\n",
    "    if type(item) == list:\n",
    "        for sub_list in item:\n",
    "            final_list.append(sub_list)\n",
    "    else:\n",
    "        final_list.append(item)\n",
    "print(final_list)"
   ]
  },
  {
   "cell_type": "markdown",
   "metadata": {},
   "source": [
    "### 65. Count Even Numbers: Write a Python program to count the number of even numbers in a nested list."
   ]
  },
  {
   "cell_type": "code",
   "execution_count": 6,
   "metadata": {},
   "outputs": [
    {
     "name": "stdout",
     "output_type": "stream",
     "text": [
      "6\n"
     ]
    }
   ],
   "source": [
    "my_list = [1,2,3,[1,2,3],[5,6,7,8,9,10,30,40]]\n",
    "cnt = 0\n",
    "\n",
    "for item in my_list:\n",
    "    if type(item) == list:\n",
    "        for sub_list in item:\n",
    "            if sub_list % 2 == 0:\n",
    "                cnt +=1\n",
    "print(cnt)\n"
   ]
  },
  {
   "cell_type": "markdown",
   "metadata": {},
   "source": [
    "### 66. Maximum Element in Nested List: Write a Python program to find the maximum element in a nested list of integers."
   ]
  },
  {
   "cell_type": "code",
   "execution_count": null,
   "metadata": {},
   "outputs": [
    {
     "name": "stdout",
     "output_type": "stream",
     "text": [
      "The maximum element in the nested list is: 9\n"
     ]
    }
   ],
   "source": [
    "\n",
    "nested_list = [\n",
    "    [1, 3, 5],\n",
    "    [2, 8, 4],\n",
    "    [9, 7, 6]\n",
    "]\n",
    "max_element = -999999999  \n",
    "\n",
    "for sublist in nested_list:\n",
    "    sublist_max = max(sublist)  \n",
    "    if sublist_max > max_element:\n",
    "        max_element = sublist_max  \n",
    "\n",
    "print(\"The maximum element in the nested list is:\", max_element)\n",
    "\n"
   ]
  },
  {
   "cell_type": "markdown",
   "metadata": {},
   "source": [
    "### 67. Diagonal Sum of Matrix: Given a square matrix represented as a nested list, write a Python program to calculate the sum of the elements in the main diagonal."
   ]
  },
  {
   "cell_type": "code",
   "execution_count": 8,
   "metadata": {},
   "outputs": [
    {
     "name": "stdout",
     "output_type": "stream",
     "text": [
      "The sum of the main diagonal elements is: 15\n"
     ]
    }
   ],
   "source": [
    "# Square matrix\n",
    "matrix = [\n",
    "    [1, 2, 3],\n",
    "    [4, 5, 6],\n",
    "    [7, 8, 9]\n",
    "]\n",
    "diagonal_sum = 0\n",
    "\n",
    "for i in range(len(matrix)):\n",
    "    # Iterate through all columns\n",
    "    for j in range(len(matrix[i])):\n",
    "        if i == j:\n",
    "            diagonal_sum += matrix[i][j]\n",
    "\n",
    "print(\"The sum of the main diagonal elements is:\", diagonal_sum)\n"
   ]
  },
  {
   "cell_type": "markdown",
   "metadata": {},
   "source": [
    "### 68. Nested List Element Search: Write a Python program to search for a specific element in a nested list and return its position (row and column indices)."
   ]
  },
  {
   "cell_type": "code",
   "execution_count": 9,
   "metadata": {},
   "outputs": [
    {
     "name": "stdout",
     "output_type": "stream",
     "text": [
      "Element 50 found at position (row 1, column 1)\n"
     ]
    }
   ],
   "source": [
    "matrix = [\n",
    "    [10, 20, 30],\n",
    "    [40, 50, 60],\n",
    "    [70, 80, 90]\n",
    "]\n",
    "\n",
    "target = 50\n",
    "\n",
    "found = False\n",
    "for i in range(len(matrix)):         \n",
    "    for j in range(len(matrix[i])):    \n",
    "        if matrix[i][j] == target:   \n",
    "            print(f\"Element {target} found at position (row {i}, column {j})\")\n",
    "            found = True\n",
    "            break\n",
    "    if found:\n",
    "        break\n",
    "\n",
    "if not found:\n",
    "    print(f\"Element {target} not found in the matrix.\")\n"
   ]
  },
  {
   "cell_type": "markdown",
   "metadata": {},
   "source": [
    "### 69. Duplicate Removal: Write a Python program that takes a list of elements as input and creates a new set containing only the unique elements from the list."
   ]
  },
  {
   "cell_type": "code",
   "execution_count": 14,
   "metadata": {},
   "outputs": [
    {
     "name": "stdout",
     "output_type": "stream",
     "text": [
      "{1, 2, 3, 4}\n"
     ]
    }
   ],
   "source": [
    "given_list = list(map(int,input(\"enter your values: \").split()))\n",
    "new_set = set(given_list)\n",
    "print(new_set)"
   ]
  },
  {
   "cell_type": "markdown",
   "metadata": {},
   "source": [
    "### 70. Set Intersection: Given two sets A and B, write a Python program to find their intersection and print the common elements."
   ]
  },
  {
   "cell_type": "code",
   "execution_count": 15,
   "metadata": {},
   "outputs": [
    {
     "name": "stdout",
     "output_type": "stream",
     "text": [
      "{40, 50, 60}\n"
     ]
    }
   ],
   "source": [
    "s1 = {10,20,30,40,50,60}\n",
    "s2 = {40,50,60}\n",
    "s3 = s1 & s2\n",
    "print(s3)"
   ]
  },
  {
   "cell_type": "markdown",
   "metadata": {},
   "source": [
    "### 71. Set Union: Given two sets A and B, write a Python program to find their union and print all the distinct elements from both sets"
   ]
  },
  {
   "cell_type": "code",
   "execution_count": 16,
   "metadata": {},
   "outputs": [
    {
     "name": "stdout",
     "output_type": "stream",
     "text": [
      "{40, 10, 50, 20, 60, 30}\n"
     ]
    }
   ],
   "source": [
    "s4 = s1 | s2\n",
    "print(s4)"
   ]
  },
  {
   "cell_type": "markdown",
   "metadata": {},
   "source": [
    "#### 72. Set Difference: Given two sets A and B, write a Python program to find the difference between set A and set B (i.e., elements present in A but not in B) and print the result."
   ]
  },
  {
   "cell_type": "code",
   "execution_count": null,
   "metadata": {},
   "outputs": [
    {
     "name": "stdout",
     "output_type": "stream",
     "text": [
      "{50, 10, 20}\n"
     ]
    }
   ],
   "source": [
    "A = {10,20,30,50,40}\n",
    "B = {40,30,70,80,90}\n",
    "difference_set = A.difference(B) # element of B present in A but not in B\n",
    "print(difference_set)"
   ]
  },
  {
   "cell_type": "markdown",
   "metadata": {},
   "source": [
    "#### 73. Set Symmetric Difference: Given two sets A and B, write a Python program to find the symmetric difference between the two sets (i.e., elements that are present in either set A or set B, but not in both) and print the result."
   ]
  },
  {
   "cell_type": "code",
   "execution_count": null,
   "metadata": {},
   "outputs": [
    {
     "name": "stdout",
     "output_type": "stream",
     "text": [
      "{3, 4, 5, 6}\n"
     ]
    }
   ],
   "source": [
    "s_1 = {1,2,3,4}\n",
    "s_2 = {1,2,5,6}\n",
    "s_3 = s_1.symmetric_difference(s_2) # symmetric_difference - only unique element between two set\n",
    "print(s_3)\n",
    "\n",
    "# s_1 ^ s_2 - ^ sign also use"
   ]
  },
  {
   "cell_type": "markdown",
   "metadata": {},
   "source": [
    "#### 74. Set Operations: Given three sets A, B, and C, write a Python program to find and print the intersection of A and B, the union of B and C, and the difference between C and A."
   ]
  },
  {
   "cell_type": "code",
   "execution_count": null,
   "metadata": {},
   "outputs": [
    {
     "name": "stdout",
     "output_type": "stream",
     "text": [
      "{5, 6, 7}\n",
      "{5, 6, 7, 8, 9, 10, 11, 70, 40, 20, 60, 30}\n",
      "{40, 10, 20, 60, 30}\n"
     ]
    }
   ],
   "source": [
    "A = {1,2,3,4,5,6,7,70}\n",
    "B = {5,6,7,8,9,10,11}\n",
    "C = {10,20,30,40,60,70}\n",
    "int_set = A & B\n",
    "uni_set = B | C\n",
    "diff_set = C.difference(A) # all the element that are in C not in A\n",
    "print(int_set)\n",
    "print(uni_set)\n",
    "print(diff_set)"
   ]
  },
  {
   "cell_type": "markdown",
   "metadata": {},
   "source": [
    "### 75. Set Subset Check: Given two sets A and B, write a Python program to check if set A is a subset of set B and print the result."
   ]
  },
  {
   "cell_type": "code",
   "execution_count": 28,
   "metadata": {},
   "outputs": [
    {
     "name": "stdout",
     "output_type": "stream",
     "text": [
      "element of set_1 is not in set_2\n"
     ]
    }
   ],
   "source": [
    "set_1 = {10,20,30,40}\n",
    "set_2 = {50,60,70,80,10}\n",
    "\n",
    "set_3 = set_1.issubset(set_2) # all element of a present in b \n",
    "\n",
    "if set_3:\n",
    "    print(\"Element of set_1 is in set_2 \")\n",
    "else:\n",
    "    print(\"element of set_1 is not in set_2\")"
   ]
  },
  {
   "cell_type": "markdown",
   "metadata": {},
   "source": [
    "#### 76. Set Superset Check: Given two sets A and B, write a Python program to check if set A is a superset of set B and print the result."
   ]
  },
  {
   "cell_type": "code",
   "execution_count": 31,
   "metadata": {},
   "outputs": [
    {
     "name": "stdout",
     "output_type": "stream",
     "text": [
      "A is not superset of set B\n"
     ]
    }
   ],
   "source": [
    "A = {10,20,30,40}\n",
    "B = {50,60,70,80,100,200}\n",
    "\n",
    "C = A.issuperset(B) # is A is bigger than B \n",
    "if C:\n",
    "    print(\"A is a superset of set B\")\n",
    "else:\n",
    "    print(\"A is not superset of set B\")"
   ]
  },
  {
   "cell_type": "markdown",
   "metadata": {},
   "source": [
    "#### 77. Set Length Check: Write a Python program that takes a set as input and prints the number of elements in the set."
   ]
  },
  {
   "cell_type": "code",
   "execution_count": 32,
   "metadata": {},
   "outputs": [
    {
     "name": "stdout",
     "output_type": "stream",
     "text": [
      "Number of elements in the set: 4\n"
     ]
    }
   ],
   "source": [
    "elements = input(\"Enter elements separated by spaces: \").split()\n",
    "\n",
    "user_set = set(elements)\n",
    "\n",
    "length = len(user_set)\n",
    "\n",
    "print(\"Number of elements in the set:\", length)\n"
   ]
  },
  {
   "cell_type": "markdown",
   "metadata": {},
   "source": [
    "#### 78. Set Membership Test: Write a Python program that takes an element as input and checks if it exists in a given set. Print “Found” if the element is present and “Not Found” otherwise."
   ]
  },
  {
   "cell_type": "code",
   "execution_count": 33,
   "metadata": {},
   "outputs": [
    {
     "name": "stdout",
     "output_type": "stream",
     "text": [
      "Not Found\n"
     ]
    }
   ],
   "source": [
    "my_set = {10, 20, 30, 40, 50}\n",
    "\n",
    "element = input(\"Enter an element to search: \")\n",
    "\n",
    "# Check if the element is in the set\n",
    "if element in my_set:\n",
    "    print(\"Found\")\n",
    "else:\n",
    "    print(\"Not Found\")\n"
   ]
  },
  {
   "cell_type": "markdown",
   "metadata": {},
   "source": [
    "#### 79. Dictionary Manipulation: Given a dictionary with student names as keys and their corresponding scores as values, write a Python program to add a new student to the dictionary and update the score of an existing student."
   ]
  },
  {
   "cell_type": "code",
   "execution_count": 3,
   "metadata": {},
   "outputs": [
    {
     "name": "stdout",
     "output_type": "stream",
     "text": [
      "{'name1': 'Kazi', 'score': 95, 'name2': 'rahim'}\n"
     ]
    }
   ],
   "source": [
    "std = {\"name1\":\"Kazi\",\"score\":90}\n",
    "type(std)\n",
    "std[\"name2\"] = \"rahim\"\n",
    "std[\"score\"] = 95\n",
    "print(std)"
   ]
  },
  {
   "cell_type": "markdown",
   "metadata": {},
   "source": [
    "#### 80. Dictionary Keys and Values: Write a Python program that takes a dictionary as input and prints all the keys and values in separate lines."
   ]
  },
  {
   "cell_type": "code",
   "execution_count": 4,
   "metadata": {},
   "outputs": [
    {
     "name": "stdout",
     "output_type": "stream",
     "text": [
      "dict_keys(['name', 'year', 'class', 'height'])\n",
      "dict_values(['rahim', 1997, 8, 6.1])\n"
     ]
    }
   ],
   "source": [
    "dict_given = {\"name\":\"rahim\",\"year\":1997,\"class\":8,\"height\":6.1}\n",
    "print(dict_given.keys())\n",
    "print(dict_given.values())"
   ]
  },
  {
   "cell_type": "markdown",
   "metadata": {},
   "source": [
    "#### 81. Dictionary Length: Write a Python program to calculate and print the number of key-value pairs in a given dictionary."
   ]
  },
  {
   "cell_type": "code",
   "execution_count": 5,
   "metadata": {},
   "outputs": [
    {
     "name": "stdout",
     "output_type": "stream",
     "text": [
      "4\n"
     ]
    }
   ],
   "source": [
    "length = len(dict_given)\n",
    "print(length)"
   ]
  },
  {
   "cell_type": "markdown",
   "metadata": {},
   "source": [
    "#### 82. Dictionary Value Search: Given a dictionary of items and their prices, write a Python program to search for an item based on its price and print the item’s name."
   ]
  },
  {
   "cell_type": "code",
   "execution_count": 10,
   "metadata": {},
   "outputs": [
    {
     "name": "stdout",
     "output_type": "stream",
     "text": [
      "['mango']\n"
     ]
    },
    {
     "data": {
      "text/plain": [
       "dict"
      ]
     },
     "execution_count": 10,
     "metadata": {},
     "output_type": "execute_result"
    }
   ],
   "source": [
    "items_value = dict(apple = 8,orange = 10,mango = 12, watermelon = 20)\n",
    "val = 12\n",
    "keys = [keys for keys,values in items_value.items() if values == val]\n",
    "print(keys)\n",
    "type(items_value)"
   ]
  },
  {
   "cell_type": "markdown",
   "metadata": {},
   "source": [
    "#### 83. Dictionary Merging: Given two dictionaries, write a Python program to merge them into a single dictionary and print the result."
   ]
  },
  {
   "cell_type": "code",
   "execution_count": 12,
   "metadata": {},
   "outputs": [
    {
     "name": "stdout",
     "output_type": "stream",
     "text": [
      "Merged Dictionary: {'apple': 8, 'orange': 10, 'mango': 12, 'water-melon': 20}\n"
     ]
    }
   ],
   "source": [
    "dict1 = {\"apple\": 8, \"orange\": 10}\n",
    "dict2 = {\"mango\": 12, \"water-melon\": 20}\n",
    "\n",
    "dict1.update(dict2)\n",
    "\n",
    "print(\"Merged Dictionary:\", dict1)\n"
   ]
  },
  {
   "cell_type": "markdown",
   "metadata": {},
   "source": [
    "#### 84. Dictionary Key Removal: Given a dictionary of items and their quantities, write a Python program to remove a specific item from the dictionary based on user input."
   ]
  },
  {
   "cell_type": "code",
   "execution_count": 14,
   "metadata": {},
   "outputs": [
    {
     "name": "stdout",
     "output_type": "stream",
     "text": [
      "papaya is not present and its wrong key\n"
     ]
    }
   ],
   "source": [
    "items_quant = dict(apple = 10,banana = 20,mango = 30,orange = 40,watermelon = 50)\n",
    "key_to_delete = input(\"Enter the keys\")\n",
    "if key_to_delete in items_quant:\n",
    "    del items_quant[key_to_delete]\n",
    "    print (f\"{key_to_delete} has been delete from items_quant\")\n",
    "else:\n",
    "    print(f\"{key_to_delete} is not present and its wrong key\")"
   ]
  },
  {
   "cell_type": "markdown",
   "metadata": {},
   "source": [
    "#### 85. Dictionary Sorting: Given a dictionary with names as keys and corresponding ages as values, write a Python program to sort the dictionary based on age in ascending order."
   ]
  },
  {
   "cell_type": "code",
   "execution_count": null,
   "metadata": {},
   "outputs": [],
   "source": []
  },
  {
   "cell_type": "markdown",
   "metadata": {},
   "source": [
    "#### 86. Dictionary Frequency Count: Write a Python program that takes a string as input and creates a dictionary containing each character as a key and its frequency as the value."
   ]
  },
  {
   "cell_type": "code",
   "execution_count": 16,
   "metadata": {},
   "outputs": [
    {
     "name": "stdout",
     "output_type": "stream",
     "text": [
      "{'w': 1, 'o': 1, 'r': 1, 'l': 1, 'd': 1}\n"
     ]
    }
   ],
   "source": [
    "str = input(\"enter your string\")\n",
    "freq = {}\n",
    "for char in str:\n",
    "    if char in freq:\n",
    "        freq[char] +=1\n",
    "    else:\n",
    "        freq[char] = 1\n",
    "print(freq)"
   ]
  },
  {
   "cell_type": "markdown",
   "metadata": {},
   "source": [
    "#### 87. Dictionary Comprehension: Given a list of integers, write a Python program to create a dictionary where the keys are the elements from the list, and the values are their squares."
   ]
  },
  {
   "cell_type": "code",
   "execution_count": 20,
   "metadata": {},
   "outputs": [
    {
     "name": "stdout",
     "output_type": "stream",
     "text": [
      "{1: 1, 2: 4, 3: 9, 4: 16}\n"
     ]
    }
   ],
   "source": [
    "my_list = list(map(int,input(\"enter your list\").split()))\n",
    "compre_dict = {num:num**2 for num in my_list}\n",
    "print(compre_dict)"
   ]
  },
  {
   "cell_type": "markdown",
   "metadata": {},
   "source": [
    "#### 88. Dictionary Key Check: Write a Python program that takes a key as input and checks if it exists in a given dictionary. Print “Key Found” if the key is present and “Key Not Found” otherwise."
   ]
  },
  {
   "cell_type": "code",
   "execution_count": 24,
   "metadata": {},
   "outputs": [
    {
     "name": "stdout",
     "output_type": "stream",
     "text": [
      "key found\n"
     ]
    }
   ],
   "source": [
    "items_quant\n",
    "key_element = input(\"enter your keys\")\n",
    "if key_element in items_quant:\n",
    "    print(\"key found\")\n",
    "else:\n",
    "     print(\"key not found\")"
   ]
  },
  {
   "cell_type": "markdown",
   "metadata": {},
   "source": [
    "#### 89. Access Nested Dictionary: Given a nested dictionary containing student details, write a Python program to access and print specific information such as a student’s name, age, and address."
   ]
  },
  {
   "cell_type": "code",
   "execution_count": 28,
   "metadata": {},
   "outputs": [
    {
     "name": "stdout",
     "output_type": "stream",
     "text": [
      "{'name': 'alice', 'age': 25, 'year': 1997, 'Address': 'newyork'}\n"
     ]
    }
   ],
   "source": [
    "std_details = {\"std1\":{\"name\":\"alice\",\"age\":25,\"year\":1997,\"Address\":\"newyork\"},\"std2\":{\"name\":\"Bob\",\"age\":24,\"year\":1996,\"Address\":\"DC\"}}\n",
    "details = std_details[\"std1\"]\n",
    "print(details)"
   ]
  },
  {
   "cell_type": "markdown",
   "metadata": {},
   "source": [
    "#### 90. Nested Dictionary Length: Write a Python program to calculate and print the total number of key-value pairs in a nested dictionary."
   ]
  },
  {
   "cell_type": "code",
   "execution_count": 31,
   "metadata": {},
   "outputs": [],
   "source": [
    "std_details\n",
    "for items in std_details:\n",
    "    if type(items) == dict:\n",
    "        for nested_dict in items:\n",
    "            length = (len(nested_dict))\n",
    "            print(length)\n",
    "    "
   ]
  },
  {
   "cell_type": "markdown",
   "metadata": {},
   "source": [
    "#### 91. Nested Dictionary Update: Given a nested dictionary of employee details, write a Python program to update an employee’s salary based on their employee ID."
   ]
  },
  {
   "cell_type": "code",
   "execution_count": null,
   "metadata": {},
   "outputs": [
    {
     "name": "stdout",
     "output_type": "stream",
     "text": [
      "Salary of emp1 updated to 500000.0.\n",
      "\n",
      "Updated Employee Details:\n",
      "emp1: {'name': 'Alice', 'age': 30, 'position': 'Manager', 'salary': 500000.0}\n",
      "emp2: {'name': 'Bob', 'age': 25, 'position': 'Developer', 'salary': 45000}\n",
      "emp3: {'name': 'Charlie', 'age': 35, 'position': 'HR', 'salary': 60000}\n"
     ]
    }
   ],
   "source": [
    "employees = {\n",
    "    \"emp1\": {\n",
    "        \"name\": \"Alice\",\n",
    "        \"age\": 30,\n",
    "        \"position\": \"Manager\",\n",
    "        \"salary\": 55000\n",
    "    },\n",
    "    \"emp2\": {\n",
    "        \"name\": \"Bob\",\n",
    "        \"age\": 25,\n",
    "        \"position\": \"Developer\",\n",
    "        \"salary\": 45000\n",
    "    },\n",
    "    \"emp3\": {\n",
    "        \"name\": \"Charlie\",\n",
    "        \"age\": 35,\n",
    "        \"position\": \"HR\",\n",
    "        \"salary\": 60000\n",
    "    }\n",
    "}\n",
    "employee_id = input(\"Enter employee ID (e.g., emp1): \")\n",
    "new_salary = float(input(\"Enter the new salary: \"))\n",
    "\n",
    "if employee_id in employees:\n",
    "    employees[employee_id][\"salary\"] = new_salary\n",
    "    print(f\"Salary of {employee_id} updated to {new_salary}.\")\n",
    "else:\n",
    "    print(f\"Employee ID {employee_id} not found.\")\n",
    "\n",
    "print(\"\\nUpdated Employee Details:\")\n",
    "for emp_id, details in employees.items():\n",
    "    print(f\"{emp_id}: {details}\")\n"
   ]
  },
  {
   "cell_type": "markdown",
   "metadata": {},
   "source": [
    "#### 92. Nested Dictionary Sorting: Given a nested dictionary containing product details (product name, price, and quantity), write a Python program to sort the products based on their prices in ascending order."
   ]
  },
  {
   "cell_type": "code",
   "execution_count": null,
   "metadata": {},
   "outputs": [],
   "source": []
  },
  {
   "cell_type": "markdown",
   "metadata": {},
   "source": [
    "#### 93. Nested Dictionary Key Search: Write a Python program that takes a key as input and searches for it in a nested dictionary. If found, print the corresponding value, otherwise, print “Key Not Found.”"
   ]
  },
  {
   "cell_type": "code",
   "execution_count": 40,
   "metadata": {},
   "outputs": [
    {
     "name": "stdout",
     "output_type": "stream",
     "text": [
      "name for emp1 is:Alice\n",
      "name for emp2 is:Bob\n",
      "name for emp3 is:Charlie\n"
     ]
    }
   ],
   "source": [
    "employees\n",
    "key_found = False\n",
    "keys_to_search = input(\"Enter the keys: \")\n",
    "for main_key,inner_dict in employees.items():\n",
    "    if keys_to_search in inner_dict:\n",
    "        print(f\"{keys_to_search} for {main_key} is:{inner_dict[keys_to_search]}\")\n",
    "        key_found = True\n",
    "    \n",
    "if not key_found:\n",
    "    print(\"key not found\")"
   ]
  },
  {
   "cell_type": "markdown",
   "metadata": {},
   "source": [
    "##### 94. Prime Number Checker: Write a Python program that takes a number as input and determines if it is a prime number or not. Use a `for` loop to check for factors. If a factor is found, `break` out of the loop."
   ]
  },
  {
   "cell_type": "code",
   "execution_count": 43,
   "metadata": {},
   "outputs": [
    {
     "name": "stdout",
     "output_type": "stream",
     "text": [
      "13 is a prime number.\n"
     ]
    }
   ],
   "source": [
    "import math\n",
    "num = int(input(\"Enter a number: \"))\n",
    "\n",
    "if num <= 1:\n",
    "    print(f\"{num} is not a prime number.\")\n",
    "else:\n",
    "    is_prime = True  \n",
    "    for i in range (2, int(math.sqrt(num) + 1)):  \n",
    "        if num % i == 0:  \n",
    "            is_prime = False\n",
    "            break\n",
    "\n",
    "    if is_prime:\n",
    "        print(f\"{num} is a prime number.\")\n",
    "    else:\n",
    "        print(f\"{num} is not a prime number.\")\n",
    "\n"
   ]
  },
  {
   "cell_type": "markdown",
   "metadata": {},
   "source": [
    "#### 95. Even Number Printer: Write a Python program to print all even numbers from 1 to 20. Use a `for` loop and `continue` to skip odd numbers."
   ]
  },
  {
   "cell_type": "code",
   "execution_count": 45,
   "metadata": {},
   "outputs": [
    {
     "name": "stdout",
     "output_type": "stream",
     "text": [
      "2\n",
      "4\n",
      "6\n",
      "8\n",
      "10\n",
      "12\n",
      "14\n",
      "16\n",
      "18\n",
      "20\n"
     ]
    }
   ],
   "source": [
    "i = 1\n",
    "while(i<21):\n",
    "    if i%2==1:\n",
    "        i +=1\n",
    "        continue\n",
    "    print(i)\n",
    "    i +=1"
   ]
  },
  {
   "cell_type": "markdown",
   "metadata": {},
   "source": [
    "#### 96. Password Validator: Write a Python program that takes a password as input and checks if it meets the following criteria: at least 8 characters long, contains both uppercase and lowercase letters, and has at least one digit. If the password is valid, print “Password accepted.” If not, use `continue` to prompt the user to enter a valid password."
   ]
  },
  {
   "cell_type": "code",
   "execution_count": null,
   "metadata": {},
   "outputs": [],
   "source": [
    "while True:\n",
    "    # Taking input from the user\n",
    "    password = input(\"Enter your password: \")\n",
    "\n",
    "\n",
    "    # Length check\n",
    "    if len(password) < 8:\n",
    "        print(\"Password must be at least 8 characters long.\")\n",
    "        continue\n",
    "\n",
    "    # Check for uppercase, lowercase, and digit manually\n",
    "    has_upper = False\n",
    "    has_lower = False\n",
    "    has_digit = False\n",
    "\n",
    "    # Iterate through each character of the password\n",
    "    for char in password:\n",
    "        if char.isupper():\n",
    "            has_upper = True\n",
    "        elif char.islower():\n",
    "            has_lower = True\n",
    "        elif char.isdigit():\n",
    "            has_digit = True\n",
    "\n",
    "    # Check if all conditions are satisfied\n",
    "    if not has_upper:\n",
    "        print(\"Password must contain at least one uppercase letter.\")\n",
    "        continue\n",
    "    if not has_lower:\n",
    "        print(\"Password must contain at least one lowercase letter.\")\n",
    "        continue\n",
    "    if not has_digit:\n",
    "        print(\"Password must contain at least one digit.\")\n",
    "        continue\n",
    "\n",
    "    # If all conditions are met\n",
    "    print(\"Password accepted.\")\n",
    "    break\n"
   ]
  },
  {
   "cell_type": "markdown",
   "metadata": {},
   "source": [
    "#### 97. Divisible by 3 or 5: Write a Python program to print all numbers from 1 to 50 that are divisible by either 3 or 5. Use a `for` loop and `continue` to skip numbers that are not divisible by either 3 or 5."
   ]
  },
  {
   "cell_type": "code",
   "execution_count": 3,
   "metadata": {},
   "outputs": [
    {
     "name": "stdout",
     "output_type": "stream",
     "text": [
      "3\n",
      "5\n",
      "6\n",
      "9\n",
      "10\n",
      "12\n",
      "15\n",
      "18\n",
      "20\n",
      "21\n",
      "24\n",
      "25\n",
      "27\n",
      "30\n",
      "33\n",
      "35\n",
      "36\n",
      "39\n",
      "40\n",
      "42\n",
      "45\n",
      "48\n",
      "50\n"
     ]
    }
   ],
   "source": [
    "n = 50\n",
    "for i in range (1,n + 1):\n",
    "    if (i % 3 != 0 and i % 5 !=0):\n",
    "        continue\n",
    "    else:\n",
    "        print(i)\n",
    "     "
   ]
  },
  {
   "cell_type": "markdown",
   "metadata": {},
   "source": [
    "#### 98. Positive Number Sum: Write a Python program that takes positive numbers as input until a negative number is entered. Then, calculate and print the sum of all positive numbers entered. Use a `while` loop and `break` to exit the loop when a negative number is encountered."
   ]
  },
  {
   "cell_type": "code",
   "execution_count": 7,
   "metadata": {},
   "outputs": [
    {
     "name": "stdout",
     "output_type": "stream",
     "text": [
      "15\n",
      "21\n"
     ]
    }
   ],
   "source": [
    "sum = 0\n",
    "while(True):\n",
    "    number = int(input(\"Enter the Number:\"))\n",
    "    if number < 0:\n",
    "        break\n",
    "    sum = 0\n",
    "    for i in range (0,number + 1):\n",
    "        sum +=i\n",
    "    print(sum)"
   ]
  },
  {
   "cell_type": "markdown",
   "metadata": {},
   "source": [
    "#### 99. Word Palindrome Checker: Write a Python program that takes a word as input and checks if it is a palindrome (reads the same forwards and backward). Use `continue` to skip checking the word if its length is less than 3 characters."
   ]
  },
  {
   "cell_type": "code",
   "execution_count": 14,
   "metadata": {},
   "outputs": [],
   "source": [
    "word = input(\"Enter your word: \")\n",
    "rev_word = word[::-1]\n",
    "i = 0\n",
    "for i in range (len(word)):\n",
    "    if (len(word)) <= 3:\n",
    "        continue\n",
    "    else:\n",
    "        if word == rev_word:\n",
    "            print(f\"{word} is pallindrome\")\n",
    "            break\n",
    "        else:\n",
    "            print(f\"{word} is not pallindrom\")\n",
    "    break"
   ]
  },
  {
   "cell_type": "markdown",
   "metadata": {},
   "source": [
    "#### 100. Odd Number Finder: Write a Python program to find the first odd number from a list of integers. Use a `for` loop and `break` to stop the loop when the first odd number is found."
   ]
  },
  {
   "cell_type": "code",
   "execution_count": 22,
   "metadata": {},
   "outputs": [
    {
     "name": "stdout",
     "output_type": "stream",
     "text": [
      "15\n"
     ]
    }
   ],
   "source": [
    "list_value = [10,20,30,15,16,17]\n",
    "odd_found = False\n",
    "for value in range(len(list_value)):\n",
    "    if value % 2 != 0:\n",
    "        odd_found = True\n",
    "        print(list_value[i])\n",
    "        break\n"
   ]
  },
  {
   "cell_type": "markdown",
   "metadata": {},
   "source": [
    "#### 101. Number Guessing Game: Write a Python program that generates a random number between 1 and 100 and lets the user guess the number. Use a `while` loop, `break` when the correct number is guessed, and `continue` to keep prompting the user until they guess correctly."
   ]
  },
  {
   "cell_type": "code",
   "execution_count": 2,
   "metadata": {},
   "outputs": [
    {
     "name": "stdout",
     "output_type": "stream",
     "text": [
      "your guess is not correct\n",
      "your guess is not correct\n",
      "your guess is not correct\n",
      "your guess is not correct\n",
      "your guess is not correct\n",
      "your guess is not correct\n",
      "your guess is not correct\n",
      "your guess is not correct\n"
     ]
    },
    {
     "ename": "ValueError",
     "evalue": "invalid literal for int() with base 10: ''",
     "output_type": "error",
     "traceback": [
      "\u001b[31m---------------------------------------------------------------------------\u001b[39m",
      "\u001b[31mValueError\u001b[39m                                Traceback (most recent call last)",
      "\u001b[36mCell\u001b[39m\u001b[36m \u001b[39m\u001b[32mIn[2]\u001b[39m\u001b[32m, line 5\u001b[39m\n\u001b[32m      2\u001b[39m value = random.randint(\u001b[32m1\u001b[39m,\u001b[32m100\u001b[39m)\n\u001b[32m      4\u001b[39m \u001b[38;5;28;01mwhile\u001b[39;00m(\u001b[38;5;28;01mTrue\u001b[39;00m):\n\u001b[32m----> \u001b[39m\u001b[32m5\u001b[39m     user = \u001b[38;5;28;43mint\u001b[39;49m\u001b[43m(\u001b[49m\u001b[38;5;28;43minput\u001b[39;49m\u001b[43m(\u001b[49m\u001b[33;43m\"\u001b[39;49m\u001b[33;43mGuess Number between 1 - 100 :\u001b[39;49m\u001b[33;43m\"\u001b[39;49m\u001b[43m)\u001b[49m\u001b[43m)\u001b[49m\n\u001b[32m      6\u001b[39m     \u001b[38;5;28;01mif\u001b[39;00m (user == value):\n\u001b[32m      7\u001b[39m         \u001b[38;5;28mprint\u001b[39m(\u001b[33m\"\u001b[39m\u001b[33myour guess is correct\u001b[39m\u001b[33m\"\u001b[39m)\n",
      "\u001b[31mValueError\u001b[39m: invalid literal for int() with base 10: ''"
     ]
    }
   ],
   "source": [
    "import random\n",
    "value = random.randint(1,100)\n",
    "\n",
    "while(True):\n",
    "    user = int(input(\"Guess Number between 1 - 100 :\"))\n",
    "    if (user == value):\n",
    "        print(\"your guess is correct\")\n",
    "        break\n",
    "    else:\n",
    "        print(\"your guess is not correct\")\n",
    "\n",
    "        \n",
    "        \n"
   ]
  },
  {
   "cell_type": "markdown",
   "metadata": {},
   "source": [
    "#### 102. Vowel Counter: Write a Python program that takes a string as input and counts the number of vowels (a, e, i, o, u) in it. Use a `for` loop and `continue` to skip counting non-vowel characters."
   ]
  },
  {
   "cell_type": "code",
   "execution_count": 6,
   "metadata": {},
   "outputs": [
    {
     "name": "stdout",
     "output_type": "stream",
     "text": [
      "6\n"
     ]
    }
   ],
   "source": [
    "user_input = input(\"enter your string: \").lower()\n",
    "count = 0\n",
    "\n",
    "for value in  user_input:\n",
    "    if (value ==\"a\" or value ==\"e\" or value ==\"i\" or value==\"o\" or value ==\"u\"):\n",
    "        count +=1\n",
    "    else:\n",
    "        continue\n",
    "print(count)\n"
   ]
  },
  {
   "cell_type": "markdown",
   "metadata": {},
   "source": [
    "#### 103. Unique Characters: Write a Python program that takes a string as input and checks if it contains all unique characters (no character repeats). Use a `for` loop and `break` when a character repeats."
   ]
  },
  {
   "cell_type": "code",
   "execution_count": 7,
   "metadata": {},
   "outputs": [
    {
     "name": "stdout",
     "output_type": "stream",
     "text": [
      "Not all characters are unique.\n"
     ]
    }
   ],
   "source": [
    "user_input = input(\"Enter a string: \")\n",
    "seen = []  \n",
    "\n",
    "for char in user_input:\n",
    "    if char in seen:\n",
    "        print(\"Not all characters are unique.\")\n",
    "        break\n",
    "    else:\n",
    "        seen.append(char)\n",
    "else:\n",
    "    print(\"All characters are unique.\")\n"
   ]
  },
  {
   "cell_type": "markdown",
   "metadata": {},
   "source": [
    "#### 104. Factorial Calculator: Write a Python function called `factorial` that takes an integer as input and returns its factorial. Test the function with different values."
   ]
  },
  {
   "cell_type": "code",
   "execution_count": 11,
   "metadata": {},
   "outputs": [
    {
     "name": "stdout",
     "output_type": "stream",
     "text": [
      "24\n"
     ]
    }
   ],
   "source": [
    "def fact(x):\n",
    "    factu = 1\n",
    "    for i in range(1,x+1):\n",
    "        factu *= i\n",
    "    return factu\n",
    "\n",
    "    \n",
    "\n",
    "val = int(input(\"Enter the value: \"))\n",
    "facto = fact(val)\n",
    "print(facto)"
   ]
  },
  {
   "cell_type": "markdown",
   "metadata": {},
   "source": [
    "#### 105. Palindrome Checker: Write a Python function called `is_palindrome` that takes a string as input and returns `True` if it is a palindrome and `False` otherwise. Test the function with different words."
   ]
  },
  {
   "cell_type": "code",
   "execution_count": 13,
   "metadata": {},
   "outputs": [
    {
     "name": "stdout",
     "output_type": "stream",
     "text": [
      "False\n"
     ]
    }
   ],
   "source": [
    "def is_palindrome(x,y):\n",
    "    if x ==y:\n",
    "        return True\n",
    "    else:\n",
    "        return False\n",
    "\n",
    "word_str = input(\"Enter your String: \")\n",
    "rev_word = word_str[::-1]\n",
    "final= is_palindrome(word_str,rev_word)\n",
    "print(final)\n"
   ]
  },
  {
   "cell_type": "markdown",
   "metadata": {},
   "source": [
    "#### 106. Even or Odd Checker: Write a Python function called `even_or_odd` that takes an integer as input and returns “Even” if the number is even and “Odd” if the number is odd. Test the function with different numbers."
   ]
  },
  {
   "cell_type": "code",
   "execution_count": 16,
   "metadata": {},
   "outputs": [
    {
     "name": "stdout",
     "output_type": "stream",
     "text": [
      "odd\n"
     ]
    }
   ],
   "source": [
    "def even_or_odd(number):\n",
    "    if number <= 0:\n",
    "        print(number)\n",
    "    elif number % 2 ==0:\n",
    "        print(\"Even\")\n",
    "    else:\n",
    "        print(\"odd\")\n",
    "\n",
    "\n",
    "\n",
    "number = int(input(\"Enter your Number: \"))\n",
    "even_or_odd(number)"
   ]
  },
  {
   "cell_type": "markdown",
   "metadata": {},
   "source": [
    "#### 107. List Sum Calculator: Write a Python function called `list_sum` that takes a list of integers as input and returns the sum of all elements in the list. Test the function with different lists."
   ]
  },
  {
   "cell_type": "code",
   "execution_count": 21,
   "metadata": {},
   "outputs": [
    {
     "name": "stdout",
     "output_type": "stream",
     "text": [
      "24\n"
     ]
    }
   ],
   "source": [
    "def list_sum(x):\n",
    "    sum = 0\n",
    "    for value in x:\n",
    "        sum +=value\n",
    "    return sum\n",
    "\n",
    "\n",
    "# sum = 0\n",
    "list_input = list(map(int,input(\"Enter your values:\").split()))\n",
    "final_sum = list_sum(list_input)\n",
    "print(final_sum)\n",
    "\n"
   ]
  },
  {
   "cell_type": "markdown",
   "metadata": {},
   "source": [
    "#### 108. Greatest Common Divisor (GCD) Calculator: Write a Python function called `gcd` that takes two integers as input and returns their greatest common divisor. Test the function with different pairs of numbers."
   ]
  },
  {
   "cell_type": "code",
   "execution_count": 25,
   "metadata": {},
   "outputs": [
    {
     "name": "stdout",
     "output_type": "stream",
     "text": [
      "1\n"
     ]
    }
   ],
   "source": [
    "def gcd(x,y):\n",
    "    while y !=0:\n",
    "        remainder = x%y\n",
    "        x = y\n",
    "        y = remainder\n",
    "    return x\n",
    "\n",
    "\n",
    "number_1 = int(input(\"Enter Number one: \"))\n",
    "number_2 = int(input(\"Enter Number two: \"))\n",
    "\n",
    "result = gcd(number_1,number_2)\n",
    "print(result)\n"
   ]
  },
  {
   "cell_type": "markdown",
   "metadata": {},
   "source": [
    "#### 109. Leap Year Checker: Write a Python function called `is_leap_year` that takes a year as input and returns `True` if it is a leap year and `False` otherwise. Test the function with different years."
   ]
  },
  {
   "cell_type": "code",
   "execution_count": 35,
   "metadata": {},
   "outputs": [
    {
     "name": "stdout",
     "output_type": "stream",
     "text": [
      "2000: True\n"
     ]
    }
   ],
   "source": [
    "def is_leap_year(year):\n",
    "    # Check if year is divisible by 400\n",
    "    if year % 400 == 0:\n",
    "        return True\n",
    "    # Check if year is divisible by 100\n",
    "    if year % 100 == 0:\n",
    "        return False\n",
    "    # Check if year is divisible by 4\n",
    "    if year % 4 == 0:\n",
    "        return True\n",
    "    # Otherwise, it's not a leap year\n",
    "    return False\n",
    "\n",
    "# Testing the function\n",
    "years_to_test = int(input(\"Enter your year: \"))\n",
    "\n",
    "\n",
    "result = is_leap_year(years_to_test)\n",
    "print(f\"{years_to_test}: {result}\")\n"
   ]
  },
  {
   "cell_type": "markdown",
   "metadata": {},
   "source": [
    "##### 110. Math Operations: Write a Python function called `math_operations` that takes three numbers and a string representing an operation (‘add’, ‘subtract’, ‘multiply’, or ‘divide’). The function should return the result of the specified operation on the three numbers. Implement the math operations as nested functions"
   ]
  },
  {
   "cell_type": "code",
   "execution_count": 44,
   "metadata": {},
   "outputs": [
    {
     "name": "stdout",
     "output_type": "stream",
     "text": [
      "36\n"
     ]
    }
   ],
   "source": [
    "def math_operations(x,y,z):\n",
    "    sign = input(\"enter the sign:\")\n",
    "    def operation():\n",
    "        if sign == \"+\":\n",
    "            add_number = x + y + z\n",
    "            return add_number\n",
    "        elif sign == \"-\":\n",
    "            subtruct_number = x - y - z\n",
    "            return subtruct_number\n",
    "        elif sign == \"*\":\n",
    "            multiply_number = x*y*z\n",
    "            return multiply_number\n",
    "        elif sign == \"/\":\n",
    "            divide_number = x/y/z\n",
    "            return divide_number\n",
    "    return operation()\n",
    "    \n",
    "\n",
    "\n",
    "number_1 = int(input(\"Enter Number one: \"))\n",
    "number_2 = int(input(\"Enter Number Two: \"))\n",
    "number_3 = int(input(\"Enter Number Three: \"))\n",
    "\n",
    "final_result = math_operations(number_1,number_2,number_3)\n",
    "print(final_result)"
   ]
  },
  {
   "cell_type": "markdown",
   "metadata": {},
   "source": [
    "#### 111. Greeting Generator: Write a Python function called `greeting_generator` that takes a name as input and returns a greeting message using nested functions. The greeting message should be customizable (e.g., “Hello, {name}! How are you today?”)."
   ]
  },
  {
   "cell_type": "code",
   "execution_count": 47,
   "metadata": {},
   "outputs": [
    {
     "name": "stdout",
     "output_type": "stream",
     "text": [
      "Hello,Emon! How are you Today\n"
     ]
    }
   ],
   "source": [
    "def greetings_generator(x):\n",
    "    def message():\n",
    "        return f\"Hello,{name}! How are you Today\"\n",
    "    return message()\n",
    "\n",
    "name = input(\"Enter Your Name: \")\n",
    "\n",
    "greetings = greetings_generator(name)\n",
    "print(greetings)"
   ]
  },
  {
   "cell_type": "markdown",
   "metadata": {},
   "source": [
    "##### 112. Temperature Converter: Write a Python function called `temperature_converter` that takes a temperature value and a string representing the scale (‘C’ for Celsius or ‘F’ for Fahrenheit) as input. The function should convert the temperature from one scale to the other using nested functions and return the converted value."
   ]
  },
  {
   "cell_type": "code",
   "execution_count": 48,
   "metadata": {},
   "outputs": [
    {
     "name": "stdout",
     "output_type": "stream",
     "text": [
      "Converted Temperature: 112.22222222222223\n"
     ]
    }
   ],
   "source": [
    "def temperature_converter(value, scale):\n",
    "    # Nested function to convert Celsius to Fahrenheit\n",
    "    def celsius_to_fahrenheit(celsius):\n",
    "        return (celsius * 9/5) + 32\n",
    "\n",
    "    # Nested function to convert Fahrenheit to Celsius\n",
    "    def fahrenheit_to_celsius(fahrenheit):\n",
    "        return (fahrenheit - 32) * 5/9\n",
    "\n",
    "    # Main logic where nested functions are called\n",
    "    if scale == \"C\" or scale == \"c\":\n",
    "        return celsius_to_fahrenheit(value)  # Calling the nested function here\n",
    "    elif scale == \"F\" or scale == \"f\":\n",
    "        return fahrenheit_to_celsius(value)  # Calling the nested function here\n",
    "    else:\n",
    "        return \"Invalid scale. Please use 'C' or 'F'.\"\n",
    "\n",
    "# Example test\n",
    "temp_value = float(input(\"Enter the temperature value: \"))\n",
    "temp_scale = input(\"Enter the scale (C/F): \")\n",
    "\n",
    "converted_value = temperature_converter(temp_value, temp_scale)\n",
    "print(f\"Converted Temperature: {converted_value}\")\n"
   ]
  },
  {
   "cell_type": "markdown",
   "metadata": {},
   "source": [
    "### 113. Factorial Calculation: Write a recursive Python function called `factorial` that takes a non-negative integer as input and returns its factorial."
   ]
  },
  {
   "cell_type": "code",
   "execution_count": 2,
   "metadata": {},
   "outputs": [
    {
     "name": "stdout",
     "output_type": "stream",
     "text": [
      "24\n"
     ]
    }
   ],
   "source": [
    "def factorial(x):\n",
    "    if x ==1:\n",
    "        return 1\n",
    "    return x * factorial(x-1)\n",
    "\n",
    "value = abs(int(input(\"enter your value: \")))\n",
    "final = factorial (value)\n",
    "print(final)"
   ]
  },
  {
   "cell_type": "markdown",
   "metadata": {},
   "source": [
    "#### 114. Fibonacci Series: Write a recursive Python function called `Fibonacci` that takes an integer N as input and returns the Nth number in the Fibonacci series. The Fibonacci series is defined as follows: F(0) = 0, F(1) = 1, and F(n) = F(n-1) + F(n-2) for n > 1."
   ]
  },
  {
   "cell_type": "code",
   "execution_count": 5,
   "metadata": {},
   "outputs": [
    {
     "name": "stdout",
     "output_type": "stream",
     "text": [
      "55\n"
     ]
    }
   ],
   "source": [
    "def Fibonacci(x):\n",
    "    if x<=0:\n",
    "        return 0\n",
    "    elif x==1:\n",
    "        return 1\n",
    "    return Fibonacci(x-1) + Fibonacci(x-2)\n",
    "\n",
    "\n",
    "n = int(input(\"enter the value: \"))\n",
    "n_value = Fibonacci(n)\n",
    "print(n_value)"
   ]
  },
  {
   "cell_type": "markdown",
   "metadata": {},
   "source": [
    "#### 115. The sum of Digits: Write a recursive Python function called `sum_of_digits` that takes an integer as input and returns the sum of its digits."
   ]
  },
  {
   "cell_type": "code",
   "execution_count": 8,
   "metadata": {},
   "outputs": [
    {
     "name": "stdout",
     "output_type": "stream",
     "text": [
      "10\n"
     ]
    }
   ],
   "source": [
    "def sum_of_digit(val):\n",
    "    if val <= 0:\n",
    "        return 0\n",
    "    return (val % 10) + sum_of_digit(val//10)\n",
    "\n",
    "number = int(input(\"Enter your value: \"))\n",
    "sum_digit = sum_of_digit(number)\n",
    "print(sum_digit)"
   ]
  },
  {
   "cell_type": "markdown",
   "metadata": {},
   "source": [
    "#### 116. Binary Search: Write a recursive Python function called `binary_search` that takes a sorted list and a target value as input and returns the index of the target value in the list using binary search. If the target value is not in the list, return -1.\n"
   ]
  },
  {
   "cell_type": "code",
   "execution_count": null,
   "metadata": {},
   "outputs": [],
   "source": []
  },
  {
   "cell_type": "markdown",
   "metadata": {},
   "source": [
    "#### 117. Power Calculation: Write a recursive Python function called `power` that takes two positive integers, base and exponent, as input and returns the value of base raised to the exponent."
   ]
  },
  {
   "cell_type": "code",
   "execution_count": null,
   "metadata": {},
   "outputs": [],
   "source": []
  }
 ],
 "metadata": {
  "kernelspec": {
   "display_name": "Python 3",
   "language": "python",
   "name": "python3"
  },
  "language_info": {
   "codemirror_mode": {
    "name": "ipython",
    "version": 3
   },
   "file_extension": ".py",
   "mimetype": "text/x-python",
   "name": "python",
   "nbconvert_exporter": "python",
   "pygments_lexer": "ipython3",
   "version": "3.13.2"
  }
 },
 "nbformat": 4,
 "nbformat_minor": 2
}
